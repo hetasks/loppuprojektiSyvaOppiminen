{
 "cells": [
  {
   "cell_type": "code",
   "execution_count": 1,
   "id": "904dc910-72c0-40d5-9ead-19bb6a3f1f2b",
   "metadata": {},
   "outputs": [],
   "source": [
    "import numpy as np\n",
    "import pandas as pd\n",
    "\n",
    "import matplotlib.pyplot as plt"
   ]
  },
  {
   "cell_type": "code",
   "execution_count": 2,
   "id": "c2d83ec8-20fb-429b-96c8-ebc9945e24f7",
   "metadata": {},
   "outputs": [],
   "source": [
    "df_breastCancer = pd.read_csv(\"https://raw.githubusercontent.com/hetasks/loppuprojektiSyvaOppiminen/main/Breast_Cancer.csv\", sep=\",\")"
   ]
  },
  {
   "cell_type": "markdown",
   "id": "75dc479f-68cf-4b70-804b-fbe529cf4470",
   "metadata": {},
   "source": [
    "# Tutkitaan sarakkeita otsikkotasolla mitä datasta löytyy."
   ]
  },
  {
   "cell_type": "code",
   "execution_count": 3,
   "id": "d4953d42-7657-4d94-9fd7-7955c30bea61",
   "metadata": {},
   "outputs": [
    {
     "data": {
      "text/plain": [
       "['Age',\n",
       " 'Race',\n",
       " 'Marital Status',\n",
       " 'T Stage ',\n",
       " 'N Stage',\n",
       " '6th Stage',\n",
       " 'differentiate',\n",
       " 'Grade',\n",
       " 'A Stage',\n",
       " 'Tumor Size',\n",
       " 'Estrogen Status',\n",
       " 'Progesterone Status',\n",
       " 'Regional Node Examined',\n",
       " 'Reginol Node Positive',\n",
       " 'Survival Months',\n",
       " 'Status;']"
      ]
     },
     "execution_count": 3,
     "metadata": {},
     "output_type": "execute_result"
    }
   ],
   "source": [
    "df_breastCancer.columns.tolist()"
   ]
  },
  {
   "cell_type": "code",
   "execution_count": 4,
   "id": "2838f182-b177-47e7-8a40-aa5b721e1fa6",
   "metadata": {},
   "outputs": [
    {
     "data": {
      "text/html": [
       "<div>\n",
       "<style scoped>\n",
       "    .dataframe tbody tr th:only-of-type {\n",
       "        vertical-align: middle;\n",
       "    }\n",
       "\n",
       "    .dataframe tbody tr th {\n",
       "        vertical-align: top;\n",
       "    }\n",
       "\n",
       "    .dataframe thead th {\n",
       "        text-align: right;\n",
       "    }\n",
       "</style>\n",
       "<table border=\"1\" class=\"dataframe\">\n",
       "  <thead>\n",
       "    <tr style=\"text-align: right;\">\n",
       "      <th></th>\n",
       "      <th>Age</th>\n",
       "      <th>Race</th>\n",
       "      <th>Marital Status</th>\n",
       "      <th>T Stage</th>\n",
       "      <th>N Stage</th>\n",
       "      <th>6th Stage</th>\n",
       "      <th>differentiate</th>\n",
       "      <th>Grade</th>\n",
       "      <th>A Stage</th>\n",
       "      <th>Tumor Size</th>\n",
       "      <th>Estrogen Status</th>\n",
       "      <th>Progesterone Status</th>\n",
       "      <th>Regional Node Examined</th>\n",
       "      <th>Reginol Node Positive</th>\n",
       "      <th>Survival Months</th>\n",
       "      <th>Status;</th>\n",
       "    </tr>\n",
       "  </thead>\n",
       "  <tbody>\n",
       "    <tr>\n",
       "      <th>0</th>\n",
       "      <td>68</td>\n",
       "      <td>White</td>\n",
       "      <td>Married</td>\n",
       "      <td>T1</td>\n",
       "      <td>N1</td>\n",
       "      <td>IIA</td>\n",
       "      <td>Poorly differentiated</td>\n",
       "      <td>3</td>\n",
       "      <td>Regional</td>\n",
       "      <td>4</td>\n",
       "      <td>Positive</td>\n",
       "      <td>Positive</td>\n",
       "      <td>24</td>\n",
       "      <td>1</td>\n",
       "      <td>60</td>\n",
       "      <td>Alive;</td>\n",
       "    </tr>\n",
       "    <tr>\n",
       "      <th>1</th>\n",
       "      <td>50</td>\n",
       "      <td>White</td>\n",
       "      <td>Married</td>\n",
       "      <td>T2</td>\n",
       "      <td>N2</td>\n",
       "      <td>IIIA</td>\n",
       "      <td>Moderately differentiated</td>\n",
       "      <td>2</td>\n",
       "      <td>Regional</td>\n",
       "      <td>35</td>\n",
       "      <td>Positive</td>\n",
       "      <td>Positive</td>\n",
       "      <td>14</td>\n",
       "      <td>5</td>\n",
       "      <td>62</td>\n",
       "      <td>Alive;</td>\n",
       "    </tr>\n",
       "    <tr>\n",
       "      <th>2</th>\n",
       "      <td>58</td>\n",
       "      <td>White</td>\n",
       "      <td>Divorced</td>\n",
       "      <td>T3</td>\n",
       "      <td>N3</td>\n",
       "      <td>IIIC</td>\n",
       "      <td>Moderately differentiated</td>\n",
       "      <td>2</td>\n",
       "      <td>Regional</td>\n",
       "      <td>63</td>\n",
       "      <td>Positive</td>\n",
       "      <td>Positive</td>\n",
       "      <td>14</td>\n",
       "      <td>7</td>\n",
       "      <td>75</td>\n",
       "      <td>Alive;</td>\n",
       "    </tr>\n",
       "    <tr>\n",
       "      <th>3</th>\n",
       "      <td>58</td>\n",
       "      <td>White</td>\n",
       "      <td>Married</td>\n",
       "      <td>T1</td>\n",
       "      <td>N1</td>\n",
       "      <td>IIA</td>\n",
       "      <td>Poorly differentiated</td>\n",
       "      <td>3</td>\n",
       "      <td>Regional</td>\n",
       "      <td>18</td>\n",
       "      <td>Positive</td>\n",
       "      <td>Positive</td>\n",
       "      <td>2</td>\n",
       "      <td>1</td>\n",
       "      <td>84</td>\n",
       "      <td>Alive;</td>\n",
       "    </tr>\n",
       "    <tr>\n",
       "      <th>4</th>\n",
       "      <td>47</td>\n",
       "      <td>White</td>\n",
       "      <td>Married</td>\n",
       "      <td>T2</td>\n",
       "      <td>N1</td>\n",
       "      <td>IIB</td>\n",
       "      <td>Poorly differentiated</td>\n",
       "      <td>3</td>\n",
       "      <td>Regional</td>\n",
       "      <td>41</td>\n",
       "      <td>Positive</td>\n",
       "      <td>Positive</td>\n",
       "      <td>3</td>\n",
       "      <td>1</td>\n",
       "      <td>50</td>\n",
       "      <td>Alive;</td>\n",
       "    </tr>\n",
       "  </tbody>\n",
       "</table>\n",
       "</div>"
      ],
      "text/plain": [
       "   Age   Race Marital Status T Stage  N Stage 6th Stage  \\\n",
       "0   68  White        Married       T1      N1       IIA   \n",
       "1   50  White        Married       T2      N2      IIIA   \n",
       "2   58  White       Divorced       T3      N3      IIIC   \n",
       "3   58  White        Married       T1      N1       IIA   \n",
       "4   47  White        Married       T2      N1       IIB   \n",
       "\n",
       "               differentiate Grade   A Stage  Tumor Size Estrogen Status  \\\n",
       "0      Poorly differentiated     3  Regional           4        Positive   \n",
       "1  Moderately differentiated     2  Regional          35        Positive   \n",
       "2  Moderately differentiated     2  Regional          63        Positive   \n",
       "3      Poorly differentiated     3  Regional          18        Positive   \n",
       "4      Poorly differentiated     3  Regional          41        Positive   \n",
       "\n",
       "  Progesterone Status  Regional Node Examined  Reginol Node Positive  \\\n",
       "0            Positive                      24                      1   \n",
       "1            Positive                      14                      5   \n",
       "2            Positive                      14                      7   \n",
       "3            Positive                       2                      1   \n",
       "4            Positive                       3                      1   \n",
       "\n",
       "   Survival Months Status;  \n",
       "0               60  Alive;  \n",
       "1               62  Alive;  \n",
       "2               75  Alive;  \n",
       "3               84  Alive;  \n",
       "4               50  Alive;  "
      ]
     },
     "execution_count": 4,
     "metadata": {},
     "output_type": "execute_result"
    }
   ],
   "source": [
    "df_breastCancer.head()"
   ]
  },
  {
   "cell_type": "markdown",
   "id": "d02e5de1-eb93-4136-934e-8cf1963af965",
   "metadata": {},
   "source": [
    "# Seuraavassa nähdään tarkemmin kuinka monta saraketta ja kuinka monta riviä data sisältää. Nähdään myös, että osa datasta on numeerista dataa ja osa on datatyypiltään object."
   ]
  },
  {
   "cell_type": "code",
   "execution_count": 5,
   "id": "bc31ef6c-0065-44fa-ba21-e8269c56cf09",
   "metadata": {},
   "outputs": [
    {
     "name": "stdout",
     "output_type": "stream",
     "text": [
      "<class 'pandas.core.frame.DataFrame'>\n",
      "RangeIndex: 4024 entries, 0 to 4023\n",
      "Data columns (total 16 columns):\n",
      " #   Column                  Non-Null Count  Dtype \n",
      "---  ------                  --------------  ----- \n",
      " 0   Age                     4024 non-null   int64 \n",
      " 1   Race                    4024 non-null   object\n",
      " 2   Marital Status          4024 non-null   object\n",
      " 3   T Stage                 4024 non-null   object\n",
      " 4   N Stage                 4024 non-null   object\n",
      " 5   6th Stage               4024 non-null   object\n",
      " 6   differentiate           4024 non-null   object\n",
      " 7   Grade                   4024 non-null   object\n",
      " 8   A Stage                 4024 non-null   object\n",
      " 9   Tumor Size              4024 non-null   int64 \n",
      " 10  Estrogen Status         4024 non-null   object\n",
      " 11  Progesterone Status     4024 non-null   object\n",
      " 12  Regional Node Examined  4024 non-null   int64 \n",
      " 13  Reginol Node Positive   4024 non-null   int64 \n",
      " 14  Survival Months         4024 non-null   int64 \n",
      " 15  Status;                 4024 non-null   object\n",
      "dtypes: int64(5), object(11)\n",
      "memory usage: 503.1+ KB\n"
     ]
    }
   ],
   "source": [
    "df_breastCancer.info()"
   ]
  },
  {
   "cell_type": "markdown",
   "id": "215e33ff-2129-4cc5-8544-fd53d5634597",
   "metadata": {},
   "source": [
    "# Tarkistetaan vielä, että ei ole tyhjiä arvoja."
   ]
  },
  {
   "cell_type": "code",
   "execution_count": 6,
   "id": "16e8d146-3452-4567-8b77-8da2b17c8300",
   "metadata": {},
   "outputs": [
    {
     "data": {
      "text/plain": [
       "Age                       0\n",
       "Race                      0\n",
       "Marital Status            0\n",
       "T Stage                   0\n",
       "N Stage                   0\n",
       "6th Stage                 0\n",
       "differentiate             0\n",
       "Grade                     0\n",
       "A Stage                   0\n",
       "Tumor Size                0\n",
       "Estrogen Status           0\n",
       "Progesterone Status       0\n",
       "Regional Node Examined    0\n",
       "Reginol Node Positive     0\n",
       "Survival Months           0\n",
       "Status;                   0\n",
       "dtype: int64"
      ]
     },
     "execution_count": 6,
     "metadata": {},
     "output_type": "execute_result"
    }
   ],
   "source": [
    "df_breastCancer.isnull().sum()"
   ]
  },
  {
   "cell_type": "code",
   "execution_count": 7,
   "id": "e1d58102-a267-4e1b-8282-18279518fc41",
   "metadata": {},
   "outputs": [
    {
     "data": {
      "text/plain": [
       "Alive;    3398\n",
       "Dead;      607\n",
       "Alive       10\n",
       "Dead         9\n",
       "Name: Status;, dtype: int64"
      ]
     },
     "execution_count": 7,
     "metadata": {},
     "output_type": "execute_result"
    }
   ],
   "source": [
    "df_breastCancer['Status;'].value_counts()"
   ]
  },
  {
   "cell_type": "markdown",
   "id": "c4b63571-520b-4711-b375-0e6f63629798",
   "metadata": {},
   "source": [
    " # Yllä olevasta nähdään, että sarakkeessa 'Status' on kirjattu arvoja hieman eri tavoilla. Muutetaan nämä niin, että sarakkeiden arvoista poistetaan ylimääräiset kaksoispisteet."
   ]
  },
  {
   "cell_type": "code",
   "execution_count": 8,
   "id": "1f9de687-6493-41f0-9ed7-16bd736168e3",
   "metadata": {},
   "outputs": [
    {
     "data": {
      "text/plain": [
       "Alive    3408\n",
       "Dead      616\n",
       "Name: Status;, dtype: int64"
      ]
     },
     "execution_count": 8,
     "metadata": {},
     "output_type": "execute_result"
    }
   ],
   "source": [
    "df_breastCancer['Status;'] = df_breastCancer['Status;'].replace('Alive;', 'Alive')\n",
    " \n",
    "df_breastCancer['Status;'] = df_breastCancer['Status;'].replace('Dead;', 'Dead')\n",
    " \n",
    "df_breastCancer['Status;'].value_counts()"
   ]
  },
  {
   "cell_type": "code",
   "execution_count": 9,
   "id": "7d5a631d-d632-4c7a-9bb9-698a6f9ec06e",
   "metadata": {},
   "outputs": [
    {
     "name": "stdout",
     "output_type": "stream",
     "text": [
      "<class 'pandas.core.frame.DataFrame'>\n",
      "RangeIndex: 4024 entries, 0 to 4023\n",
      "Data columns (total 16 columns):\n",
      " #   Column                  Non-Null Count  Dtype \n",
      "---  ------                  --------------  ----- \n",
      " 0   Age                     4024 non-null   int64 \n",
      " 1   Race                    4024 non-null   object\n",
      " 2   Marital Status          4024 non-null   object\n",
      " 3   T Stage                 4024 non-null   object\n",
      " 4   N Stage                 4024 non-null   object\n",
      " 5   6th Stage               4024 non-null   object\n",
      " 6   differentiate           4024 non-null   object\n",
      " 7   Grade                   4024 non-null   object\n",
      " 8   A Stage                 4024 non-null   object\n",
      " 9   Tumor Size              4024 non-null   int64 \n",
      " 10  Estrogen Status         4024 non-null   object\n",
      " 11  Progesterone Status     4024 non-null   object\n",
      " 12  Regional Node Examined  4024 non-null   int64 \n",
      " 13  Reginol Node Positive   4024 non-null   int64 \n",
      " 14  Survival Months         4024 non-null   int64 \n",
      " 15  Status;                 4024 non-null   object\n",
      "dtypes: int64(5), object(11)\n",
      "memory usage: 503.1+ KB\n"
     ]
    }
   ],
   "source": [
    "df_breastCancer.info()"
   ]
  },
  {
   "cell_type": "markdown",
   "id": "5e6c7aad-de9c-4efa-bb9f-235c6ff76a27",
   "metadata": {},
   "source": [
    " # Tarkastellaan sarakkeita numeerisena datana."
   ]
  },
  {
   "cell_type": "code",
   "execution_count": 10,
   "id": "3b38c44d-42cd-46d0-ad31-3795001ebb68",
   "metadata": {},
   "outputs": [
    {
     "data": {
      "text/html": [
       "<div>\n",
       "<style scoped>\n",
       "    .dataframe tbody tr th:only-of-type {\n",
       "        vertical-align: middle;\n",
       "    }\n",
       "\n",
       "    .dataframe tbody tr th {\n",
       "        vertical-align: top;\n",
       "    }\n",
       "\n",
       "    .dataframe thead th {\n",
       "        text-align: right;\n",
       "    }\n",
       "</style>\n",
       "<table border=\"1\" class=\"dataframe\">\n",
       "  <thead>\n",
       "    <tr style=\"text-align: right;\">\n",
       "      <th></th>\n",
       "      <th>Age</th>\n",
       "      <th>Tumor Size</th>\n",
       "      <th>Regional Node Examined</th>\n",
       "      <th>Reginol Node Positive</th>\n",
       "      <th>Survival Months</th>\n",
       "    </tr>\n",
       "  </thead>\n",
       "  <tbody>\n",
       "    <tr>\n",
       "      <th>count</th>\n",
       "      <td>4024.00</td>\n",
       "      <td>4024.00</td>\n",
       "      <td>4024.00</td>\n",
       "      <td>4024.00</td>\n",
       "      <td>4024.00</td>\n",
       "    </tr>\n",
       "    <tr>\n",
       "      <th>mean</th>\n",
       "      <td>53.97</td>\n",
       "      <td>30.47</td>\n",
       "      <td>14.36</td>\n",
       "      <td>4.16</td>\n",
       "      <td>71.30</td>\n",
       "    </tr>\n",
       "    <tr>\n",
       "      <th>std</th>\n",
       "      <td>8.96</td>\n",
       "      <td>21.12</td>\n",
       "      <td>8.10</td>\n",
       "      <td>5.11</td>\n",
       "      <td>22.92</td>\n",
       "    </tr>\n",
       "    <tr>\n",
       "      <th>min</th>\n",
       "      <td>30.00</td>\n",
       "      <td>1.00</td>\n",
       "      <td>1.00</td>\n",
       "      <td>1.00</td>\n",
       "      <td>1.00</td>\n",
       "    </tr>\n",
       "    <tr>\n",
       "      <th>25%</th>\n",
       "      <td>47.00</td>\n",
       "      <td>16.00</td>\n",
       "      <td>9.00</td>\n",
       "      <td>1.00</td>\n",
       "      <td>56.00</td>\n",
       "    </tr>\n",
       "    <tr>\n",
       "      <th>50%</th>\n",
       "      <td>54.00</td>\n",
       "      <td>25.00</td>\n",
       "      <td>14.00</td>\n",
       "      <td>2.00</td>\n",
       "      <td>73.00</td>\n",
       "    </tr>\n",
       "    <tr>\n",
       "      <th>75%</th>\n",
       "      <td>61.00</td>\n",
       "      <td>38.00</td>\n",
       "      <td>19.00</td>\n",
       "      <td>5.00</td>\n",
       "      <td>90.00</td>\n",
       "    </tr>\n",
       "    <tr>\n",
       "      <th>max</th>\n",
       "      <td>69.00</td>\n",
       "      <td>140.00</td>\n",
       "      <td>61.00</td>\n",
       "      <td>46.00</td>\n",
       "      <td>107.00</td>\n",
       "    </tr>\n",
       "  </tbody>\n",
       "</table>\n",
       "</div>"
      ],
      "text/plain": [
       "           Age  Tumor Size  Regional Node Examined  Reginol Node Positive  \\\n",
       "count  4024.00     4024.00                 4024.00                4024.00   \n",
       "mean     53.97       30.47                   14.36                   4.16   \n",
       "std       8.96       21.12                    8.10                   5.11   \n",
       "min      30.00        1.00                    1.00                   1.00   \n",
       "25%      47.00       16.00                    9.00                   1.00   \n",
       "50%      54.00       25.00                   14.00                   2.00   \n",
       "75%      61.00       38.00                   19.00                   5.00   \n",
       "max      69.00      140.00                   61.00                  46.00   \n",
       "\n",
       "       Survival Months  \n",
       "count          4024.00  \n",
       "mean             71.30  \n",
       "std              22.92  \n",
       "min               1.00  \n",
       "25%              56.00  \n",
       "50%              73.00  \n",
       "75%              90.00  \n",
       "max             107.00  "
      ]
     },
     "execution_count": 10,
     "metadata": {},
     "output_type": "execute_result"
    }
   ],
   "source": [
    "df_breastCancer.describe().round(2)"
   ]
  },
  {
   "cell_type": "code",
   "execution_count": 11,
   "id": "d5fad022-31ac-4805-af43-22fe85c2b8aa",
   "metadata": {},
   "outputs": [
    {
     "data": {
      "text/html": [
       "<div>\n",
       "<style scoped>\n",
       "    .dataframe tbody tr th:only-of-type {\n",
       "        vertical-align: middle;\n",
       "    }\n",
       "\n",
       "    .dataframe tbody tr th {\n",
       "        vertical-align: top;\n",
       "    }\n",
       "\n",
       "    .dataframe thead th {\n",
       "        text-align: right;\n",
       "    }\n",
       "</style>\n",
       "<table border=\"1\" class=\"dataframe\">\n",
       "  <thead>\n",
       "    <tr style=\"text-align: right;\">\n",
       "      <th></th>\n",
       "      <th>Age</th>\n",
       "      <th>Race</th>\n",
       "      <th>Marital Status</th>\n",
       "      <th>T Stage</th>\n",
       "      <th>N Stage</th>\n",
       "      <th>6th Stage</th>\n",
       "      <th>differentiate</th>\n",
       "      <th>Grade</th>\n",
       "      <th>A Stage</th>\n",
       "      <th>Tumor Size</th>\n",
       "      <th>Estrogen Status</th>\n",
       "      <th>Progesterone Status</th>\n",
       "      <th>Regional Node Examined</th>\n",
       "      <th>Reginol Node Positive</th>\n",
       "      <th>Survival Months</th>\n",
       "      <th>Status;</th>\n",
       "    </tr>\n",
       "  </thead>\n",
       "  <tbody>\n",
       "    <tr>\n",
       "      <th>0</th>\n",
       "      <td>68</td>\n",
       "      <td>White</td>\n",
       "      <td>Married</td>\n",
       "      <td>T1</td>\n",
       "      <td>N1</td>\n",
       "      <td>IIA</td>\n",
       "      <td>Poorly differentiated</td>\n",
       "      <td>3</td>\n",
       "      <td>Regional</td>\n",
       "      <td>4</td>\n",
       "      <td>Positive</td>\n",
       "      <td>Positive</td>\n",
       "      <td>24</td>\n",
       "      <td>1</td>\n",
       "      <td>60</td>\n",
       "      <td>Alive</td>\n",
       "    </tr>\n",
       "    <tr>\n",
       "      <th>1</th>\n",
       "      <td>50</td>\n",
       "      <td>White</td>\n",
       "      <td>Married</td>\n",
       "      <td>T2</td>\n",
       "      <td>N2</td>\n",
       "      <td>IIIA</td>\n",
       "      <td>Moderately differentiated</td>\n",
       "      <td>2</td>\n",
       "      <td>Regional</td>\n",
       "      <td>35</td>\n",
       "      <td>Positive</td>\n",
       "      <td>Positive</td>\n",
       "      <td>14</td>\n",
       "      <td>5</td>\n",
       "      <td>62</td>\n",
       "      <td>Alive</td>\n",
       "    </tr>\n",
       "    <tr>\n",
       "      <th>2</th>\n",
       "      <td>58</td>\n",
       "      <td>White</td>\n",
       "      <td>Divorced</td>\n",
       "      <td>T3</td>\n",
       "      <td>N3</td>\n",
       "      <td>IIIC</td>\n",
       "      <td>Moderately differentiated</td>\n",
       "      <td>2</td>\n",
       "      <td>Regional</td>\n",
       "      <td>63</td>\n",
       "      <td>Positive</td>\n",
       "      <td>Positive</td>\n",
       "      <td>14</td>\n",
       "      <td>7</td>\n",
       "      <td>75</td>\n",
       "      <td>Alive</td>\n",
       "    </tr>\n",
       "    <tr>\n",
       "      <th>3</th>\n",
       "      <td>58</td>\n",
       "      <td>White</td>\n",
       "      <td>Married</td>\n",
       "      <td>T1</td>\n",
       "      <td>N1</td>\n",
       "      <td>IIA</td>\n",
       "      <td>Poorly differentiated</td>\n",
       "      <td>3</td>\n",
       "      <td>Regional</td>\n",
       "      <td>18</td>\n",
       "      <td>Positive</td>\n",
       "      <td>Positive</td>\n",
       "      <td>2</td>\n",
       "      <td>1</td>\n",
       "      <td>84</td>\n",
       "      <td>Alive</td>\n",
       "    </tr>\n",
       "    <tr>\n",
       "      <th>4</th>\n",
       "      <td>47</td>\n",
       "      <td>White</td>\n",
       "      <td>Married</td>\n",
       "      <td>T2</td>\n",
       "      <td>N1</td>\n",
       "      <td>IIB</td>\n",
       "      <td>Poorly differentiated</td>\n",
       "      <td>3</td>\n",
       "      <td>Regional</td>\n",
       "      <td>41</td>\n",
       "      <td>Positive</td>\n",
       "      <td>Positive</td>\n",
       "      <td>3</td>\n",
       "      <td>1</td>\n",
       "      <td>50</td>\n",
       "      <td>Alive</td>\n",
       "    </tr>\n",
       "  </tbody>\n",
       "</table>\n",
       "</div>"
      ],
      "text/plain": [
       "   Age   Race Marital Status T Stage  N Stage 6th Stage  \\\n",
       "0   68  White        Married       T1      N1       IIA   \n",
       "1   50  White        Married       T2      N2      IIIA   \n",
       "2   58  White       Divorced       T3      N3      IIIC   \n",
       "3   58  White        Married       T1      N1       IIA   \n",
       "4   47  White        Married       T2      N1       IIB   \n",
       "\n",
       "               differentiate Grade   A Stage  Tumor Size Estrogen Status  \\\n",
       "0      Poorly differentiated     3  Regional           4        Positive   \n",
       "1  Moderately differentiated     2  Regional          35        Positive   \n",
       "2  Moderately differentiated     2  Regional          63        Positive   \n",
       "3      Poorly differentiated     3  Regional          18        Positive   \n",
       "4      Poorly differentiated     3  Regional          41        Positive   \n",
       "\n",
       "  Progesterone Status  Regional Node Examined  Reginol Node Positive  \\\n",
       "0            Positive                      24                      1   \n",
       "1            Positive                      14                      5   \n",
       "2            Positive                      14                      7   \n",
       "3            Positive                       2                      1   \n",
       "4            Positive                       3                      1   \n",
       "\n",
       "   Survival Months Status;  \n",
       "0               60   Alive  \n",
       "1               62   Alive  \n",
       "2               75   Alive  \n",
       "3               84   Alive  \n",
       "4               50   Alive  "
      ]
     },
     "execution_count": 11,
     "metadata": {},
     "output_type": "execute_result"
    }
   ],
   "source": [
    "df_breastCancer.head()"
   ]
  },
  {
   "cell_type": "code",
   "execution_count": 12,
   "id": "a12d6d35-80ee-4f3d-abf3-15069b333cfc",
   "metadata": {},
   "outputs": [
    {
     "data": {
      "text/html": [
       "<div>\n",
       "<style scoped>\n",
       "    .dataframe tbody tr th:only-of-type {\n",
       "        vertical-align: middle;\n",
       "    }\n",
       "\n",
       "    .dataframe tbody tr th {\n",
       "        vertical-align: top;\n",
       "    }\n",
       "\n",
       "    .dataframe thead th {\n",
       "        text-align: right;\n",
       "    }\n",
       "</style>\n",
       "<table border=\"1\" class=\"dataframe\">\n",
       "  <thead>\n",
       "    <tr style=\"text-align: right;\">\n",
       "      <th></th>\n",
       "      <th>Age</th>\n",
       "      <th>Race</th>\n",
       "      <th>Marital Status</th>\n",
       "      <th>T Stage</th>\n",
       "      <th>N Stage</th>\n",
       "      <th>6th Stage</th>\n",
       "      <th>differentiate</th>\n",
       "      <th>Grade</th>\n",
       "      <th>A Stage</th>\n",
       "      <th>Tumor Size</th>\n",
       "      <th>Estrogen Status</th>\n",
       "      <th>Progesterone Status</th>\n",
       "      <th>Regional Node Examined</th>\n",
       "      <th>Reginol Node Positive</th>\n",
       "      <th>Survival Months</th>\n",
       "      <th>Status;</th>\n",
       "    </tr>\n",
       "  </thead>\n",
       "  <tbody>\n",
       "    <tr>\n",
       "      <th>0</th>\n",
       "      <td>68</td>\n",
       "      <td>White</td>\n",
       "      <td>Married</td>\n",
       "      <td>T1</td>\n",
       "      <td>N1</td>\n",
       "      <td>IIA</td>\n",
       "      <td>Poorly differentiated</td>\n",
       "      <td>3</td>\n",
       "      <td>Regional</td>\n",
       "      <td>4</td>\n",
       "      <td>Positive</td>\n",
       "      <td>Positive</td>\n",
       "      <td>24</td>\n",
       "      <td>1</td>\n",
       "      <td>60</td>\n",
       "      <td>Alive</td>\n",
       "    </tr>\n",
       "    <tr>\n",
       "      <th>1</th>\n",
       "      <td>50</td>\n",
       "      <td>White</td>\n",
       "      <td>Married</td>\n",
       "      <td>T2</td>\n",
       "      <td>N2</td>\n",
       "      <td>IIIA</td>\n",
       "      <td>Moderately differentiated</td>\n",
       "      <td>2</td>\n",
       "      <td>Regional</td>\n",
       "      <td>35</td>\n",
       "      <td>Positive</td>\n",
       "      <td>Positive</td>\n",
       "      <td>14</td>\n",
       "      <td>5</td>\n",
       "      <td>62</td>\n",
       "      <td>Alive</td>\n",
       "    </tr>\n",
       "    <tr>\n",
       "      <th>2</th>\n",
       "      <td>58</td>\n",
       "      <td>White</td>\n",
       "      <td>Divorced</td>\n",
       "      <td>T3</td>\n",
       "      <td>N3</td>\n",
       "      <td>IIIC</td>\n",
       "      <td>Moderately differentiated</td>\n",
       "      <td>2</td>\n",
       "      <td>Regional</td>\n",
       "      <td>63</td>\n",
       "      <td>Positive</td>\n",
       "      <td>Positive</td>\n",
       "      <td>14</td>\n",
       "      <td>7</td>\n",
       "      <td>75</td>\n",
       "      <td>Alive</td>\n",
       "    </tr>\n",
       "    <tr>\n",
       "      <th>3</th>\n",
       "      <td>58</td>\n",
       "      <td>White</td>\n",
       "      <td>Married</td>\n",
       "      <td>T1</td>\n",
       "      <td>N1</td>\n",
       "      <td>IIA</td>\n",
       "      <td>Poorly differentiated</td>\n",
       "      <td>3</td>\n",
       "      <td>Regional</td>\n",
       "      <td>18</td>\n",
       "      <td>Positive</td>\n",
       "      <td>Positive</td>\n",
       "      <td>2</td>\n",
       "      <td>1</td>\n",
       "      <td>84</td>\n",
       "      <td>Alive</td>\n",
       "    </tr>\n",
       "    <tr>\n",
       "      <th>4</th>\n",
       "      <td>47</td>\n",
       "      <td>White</td>\n",
       "      <td>Married</td>\n",
       "      <td>T2</td>\n",
       "      <td>N1</td>\n",
       "      <td>IIB</td>\n",
       "      <td>Poorly differentiated</td>\n",
       "      <td>3</td>\n",
       "      <td>Regional</td>\n",
       "      <td>41</td>\n",
       "      <td>Positive</td>\n",
       "      <td>Positive</td>\n",
       "      <td>3</td>\n",
       "      <td>1</td>\n",
       "      <td>50</td>\n",
       "      <td>Alive</td>\n",
       "    </tr>\n",
       "    <tr>\n",
       "      <th>...</th>\n",
       "      <td>...</td>\n",
       "      <td>...</td>\n",
       "      <td>...</td>\n",
       "      <td>...</td>\n",
       "      <td>...</td>\n",
       "      <td>...</td>\n",
       "      <td>...</td>\n",
       "      <td>...</td>\n",
       "      <td>...</td>\n",
       "      <td>...</td>\n",
       "      <td>...</td>\n",
       "      <td>...</td>\n",
       "      <td>...</td>\n",
       "      <td>...</td>\n",
       "      <td>...</td>\n",
       "      <td>...</td>\n",
       "    </tr>\n",
       "    <tr>\n",
       "      <th>4019</th>\n",
       "      <td>62</td>\n",
       "      <td>Other</td>\n",
       "      <td>Married</td>\n",
       "      <td>T1</td>\n",
       "      <td>N1</td>\n",
       "      <td>IIA</td>\n",
       "      <td>Moderately differentiated</td>\n",
       "      <td>2</td>\n",
       "      <td>Regional</td>\n",
       "      <td>9</td>\n",
       "      <td>Positive</td>\n",
       "      <td>Positive</td>\n",
       "      <td>1</td>\n",
       "      <td>1</td>\n",
       "      <td>49</td>\n",
       "      <td>Alive</td>\n",
       "    </tr>\n",
       "    <tr>\n",
       "      <th>4020</th>\n",
       "      <td>56</td>\n",
       "      <td>White</td>\n",
       "      <td>Divorced</td>\n",
       "      <td>T2</td>\n",
       "      <td>N2</td>\n",
       "      <td>IIIA</td>\n",
       "      <td>Moderately differentiated</td>\n",
       "      <td>2</td>\n",
       "      <td>Regional</td>\n",
       "      <td>46</td>\n",
       "      <td>Positive</td>\n",
       "      <td>Positive</td>\n",
       "      <td>14</td>\n",
       "      <td>8</td>\n",
       "      <td>69</td>\n",
       "      <td>Alive</td>\n",
       "    </tr>\n",
       "    <tr>\n",
       "      <th>4021</th>\n",
       "      <td>68</td>\n",
       "      <td>White</td>\n",
       "      <td>Married</td>\n",
       "      <td>T2</td>\n",
       "      <td>N1</td>\n",
       "      <td>IIB</td>\n",
       "      <td>Moderately differentiated</td>\n",
       "      <td>2</td>\n",
       "      <td>Regional</td>\n",
       "      <td>22</td>\n",
       "      <td>Positive</td>\n",
       "      <td>Negative</td>\n",
       "      <td>11</td>\n",
       "      <td>3</td>\n",
       "      <td>69</td>\n",
       "      <td>Alive</td>\n",
       "    </tr>\n",
       "    <tr>\n",
       "      <th>4022</th>\n",
       "      <td>58</td>\n",
       "      <td>Black</td>\n",
       "      <td>Divorced</td>\n",
       "      <td>T2</td>\n",
       "      <td>N1</td>\n",
       "      <td>IIB</td>\n",
       "      <td>Moderately differentiated</td>\n",
       "      <td>2</td>\n",
       "      <td>Regional</td>\n",
       "      <td>44</td>\n",
       "      <td>Positive</td>\n",
       "      <td>Positive</td>\n",
       "      <td>11</td>\n",
       "      <td>1</td>\n",
       "      <td>72</td>\n",
       "      <td>Alive</td>\n",
       "    </tr>\n",
       "    <tr>\n",
       "      <th>4023</th>\n",
       "      <td>46</td>\n",
       "      <td>White</td>\n",
       "      <td>Married</td>\n",
       "      <td>T2</td>\n",
       "      <td>N1</td>\n",
       "      <td>IIB</td>\n",
       "      <td>Moderately differentiated</td>\n",
       "      <td>2</td>\n",
       "      <td>Regional</td>\n",
       "      <td>30</td>\n",
       "      <td>Positive</td>\n",
       "      <td>Positive</td>\n",
       "      <td>7</td>\n",
       "      <td>2</td>\n",
       "      <td>100</td>\n",
       "      <td>Alive</td>\n",
       "    </tr>\n",
       "  </tbody>\n",
       "</table>\n",
       "<p>4024 rows × 16 columns</p>\n",
       "</div>"
      ],
      "text/plain": [
       "      Age   Race Marital Status T Stage  N Stage 6th Stage  \\\n",
       "0      68  White        Married       T1      N1       IIA   \n",
       "1      50  White        Married       T2      N2      IIIA   \n",
       "2      58  White       Divorced       T3      N3      IIIC   \n",
       "3      58  White        Married       T1      N1       IIA   \n",
       "4      47  White        Married       T2      N1       IIB   \n",
       "...   ...    ...            ...      ...     ...       ...   \n",
       "4019   62  Other        Married       T1      N1       IIA   \n",
       "4020   56  White       Divorced       T2      N2      IIIA   \n",
       "4021   68  White        Married       T2      N1       IIB   \n",
       "4022   58  Black       Divorced       T2      N1       IIB   \n",
       "4023   46  White        Married       T2      N1       IIB   \n",
       "\n",
       "                  differentiate Grade   A Stage  Tumor Size Estrogen Status  \\\n",
       "0         Poorly differentiated     3  Regional           4        Positive   \n",
       "1     Moderately differentiated     2  Regional          35        Positive   \n",
       "2     Moderately differentiated     2  Regional          63        Positive   \n",
       "3         Poorly differentiated     3  Regional          18        Positive   \n",
       "4         Poorly differentiated     3  Regional          41        Positive   \n",
       "...                         ...   ...       ...         ...             ...   \n",
       "4019  Moderately differentiated     2  Regional           9        Positive   \n",
       "4020  Moderately differentiated     2  Regional          46        Positive   \n",
       "4021  Moderately differentiated     2  Regional          22        Positive   \n",
       "4022  Moderately differentiated     2  Regional          44        Positive   \n",
       "4023  Moderately differentiated     2  Regional          30        Positive   \n",
       "\n",
       "     Progesterone Status  Regional Node Examined  Reginol Node Positive  \\\n",
       "0               Positive                      24                      1   \n",
       "1               Positive                      14                      5   \n",
       "2               Positive                      14                      7   \n",
       "3               Positive                       2                      1   \n",
       "4               Positive                       3                      1   \n",
       "...                  ...                     ...                    ...   \n",
       "4019            Positive                       1                      1   \n",
       "4020            Positive                      14                      8   \n",
       "4021            Negative                      11                      3   \n",
       "4022            Positive                      11                      1   \n",
       "4023            Positive                       7                      2   \n",
       "\n",
       "      Survival Months Status;  \n",
       "0                  60   Alive  \n",
       "1                  62   Alive  \n",
       "2                  75   Alive  \n",
       "3                  84   Alive  \n",
       "4                  50   Alive  \n",
       "...               ...     ...  \n",
       "4019               49   Alive  \n",
       "4020               69   Alive  \n",
       "4021               69   Alive  \n",
       "4022               72   Alive  \n",
       "4023              100   Alive  \n",
       "\n",
       "[4024 rows x 16 columns]"
      ]
     },
     "execution_count": 12,
     "metadata": {},
     "output_type": "execute_result"
    }
   ],
   "source": [
    "df_breastCancer"
   ]
  },
  {
   "cell_type": "markdown",
   "id": "b775b0fc-4877-4913-b5d0-8b4000ec7d23",
   "metadata": {},
   "source": [
    "# Erotellaan datasta opetussetti ja testisetti. Opetusdataa varten irrotetaan alkuperäisestä datasta 80 % osajoukko. "
   ]
  },
  {
   "cell_type": "code",
   "execution_count": 13,
   "id": "f4c34044-cfc4-4ee6-bebb-60337ed1e5b7",
   "metadata": {
    "tags": []
   },
   "outputs": [],
   "source": [
    "from sklearn.model_selection import train_test_split\n",
    "\n",
    "df_train_full, df_test_full = train_test_split(df_breastCancer, test_size=0.2, random_state=33, stratify=df_breastCancer['Status;'])"
   ]
  },
  {
   "cell_type": "markdown",
   "id": "24dd94e3-107b-4cd5-8559-3334fea80668",
   "metadata": {},
   "source": [
    "# Jaetaan testidata evaluointi- ja unseen-setteihin (50:50). \"Stratify\"-parametri tekee jaon niin, että esimerkkidata jaetaan suhteessa saman arvon eri setteihin. "
   ]
  },
  {
   "cell_type": "code",
   "execution_count": 14,
   "id": "b7950ed1-2389-4d56-a73d-46810c84dca1",
   "metadata": {},
   "outputs": [
    {
     "name": "stdout",
     "output_type": "stream",
     "text": [
      "(3219, 16) (805, 16)\n",
      "(402, 16) (403, 16)\n"
     ]
    }
   ],
   "source": [
    "df_test_eval, df_test_unseen = train_test_split(df_test_full, test_size=0.5, random_state=33, stratify=df_test_full['Status;'])\n",
    "print(df_train_full.shape, df_test_full.shape)\n",
    "print(df_test_eval.shape, df_test_unseen.shape)"
   ]
  },
  {
   "cell_type": "markdown",
   "id": "8e6052f8-0026-435e-84d8-11a275add87f",
   "metadata": {},
   "source": [
    "# Sovitetaan enkooderi opetusdatalla. Koska koneoppisen algoritmit ymmärtävät suurimmaksi osaksi numeerista dataa, niin muutetaan object-tyyppiset sarakkeet numeerisiksi. Käytetään OrdinalEncoderia, koska sen kanssa voidaan käyttää \"encoded_missing_value\", joka varmistaa ettei opetusdatan ulkopuolella esiinnhy ennennäkemätöntä dataa."
   ]
  },
  {
   "cell_type": "code",
   "execution_count": 15,
   "id": "f76078ca-84db-445d-b0f9-525567fd9f21",
   "metadata": {
    "tags": []
   },
   "outputs": [
    {
     "data": {
      "text/html": [
       "<style>#sk-container-id-1 {color: black;background-color: white;}#sk-container-id-1 pre{padding: 0;}#sk-container-id-1 div.sk-toggleable {background-color: white;}#sk-container-id-1 label.sk-toggleable__label {cursor: pointer;display: block;width: 100%;margin-bottom: 0;padding: 0.3em;box-sizing: border-box;text-align: center;}#sk-container-id-1 label.sk-toggleable__label-arrow:before {content: \"▸\";float: left;margin-right: 0.25em;color: #696969;}#sk-container-id-1 label.sk-toggleable__label-arrow:hover:before {color: black;}#sk-container-id-1 div.sk-estimator:hover label.sk-toggleable__label-arrow:before {color: black;}#sk-container-id-1 div.sk-toggleable__content {max-height: 0;max-width: 0;overflow: hidden;text-align: left;background-color: #f0f8ff;}#sk-container-id-1 div.sk-toggleable__content pre {margin: 0.2em;color: black;border-radius: 0.25em;background-color: #f0f8ff;}#sk-container-id-1 input.sk-toggleable__control:checked~div.sk-toggleable__content {max-height: 200px;max-width: 100%;overflow: auto;}#sk-container-id-1 input.sk-toggleable__control:checked~label.sk-toggleable__label-arrow:before {content: \"▾\";}#sk-container-id-1 div.sk-estimator input.sk-toggleable__control:checked~label.sk-toggleable__label {background-color: #d4ebff;}#sk-container-id-1 div.sk-label input.sk-toggleable__control:checked~label.sk-toggleable__label {background-color: #d4ebff;}#sk-container-id-1 input.sk-hidden--visually {border: 0;clip: rect(1px 1px 1px 1px);clip: rect(1px, 1px, 1px, 1px);height: 1px;margin: -1px;overflow: hidden;padding: 0;position: absolute;width: 1px;}#sk-container-id-1 div.sk-estimator {font-family: monospace;background-color: #f0f8ff;border: 1px dotted black;border-radius: 0.25em;box-sizing: border-box;margin-bottom: 0.5em;}#sk-container-id-1 div.sk-estimator:hover {background-color: #d4ebff;}#sk-container-id-1 div.sk-parallel-item::after {content: \"\";width: 100%;border-bottom: 1px solid gray;flex-grow: 1;}#sk-container-id-1 div.sk-label:hover label.sk-toggleable__label {background-color: #d4ebff;}#sk-container-id-1 div.sk-serial::before {content: \"\";position: absolute;border-left: 1px solid gray;box-sizing: border-box;top: 0;bottom: 0;left: 50%;z-index: 0;}#sk-container-id-1 div.sk-serial {display: flex;flex-direction: column;align-items: center;background-color: white;padding-right: 0.2em;padding-left: 0.2em;position: relative;}#sk-container-id-1 div.sk-item {position: relative;z-index: 1;}#sk-container-id-1 div.sk-parallel {display: flex;align-items: stretch;justify-content: center;background-color: white;position: relative;}#sk-container-id-1 div.sk-item::before, #sk-container-id-1 div.sk-parallel-item::before {content: \"\";position: absolute;border-left: 1px solid gray;box-sizing: border-box;top: 0;bottom: 0;left: 50%;z-index: -1;}#sk-container-id-1 div.sk-parallel-item {display: flex;flex-direction: column;z-index: 1;position: relative;background-color: white;}#sk-container-id-1 div.sk-parallel-item:first-child::after {align-self: flex-end;width: 50%;}#sk-container-id-1 div.sk-parallel-item:last-child::after {align-self: flex-start;width: 50%;}#sk-container-id-1 div.sk-parallel-item:only-child::after {width: 0;}#sk-container-id-1 div.sk-dashed-wrapped {border: 1px dashed gray;margin: 0 0.4em 0.5em 0.4em;box-sizing: border-box;padding-bottom: 0.4em;background-color: white;}#sk-container-id-1 div.sk-label label {font-family: monospace;font-weight: bold;display: inline-block;line-height: 1.2em;}#sk-container-id-1 div.sk-label-container {text-align: center;}#sk-container-id-1 div.sk-container {/* jupyter's `normalize.less` sets `[hidden] { display: none; }` but bootstrap.min.css set `[hidden] { display: none !important; }` so we also need the `!important` here to be able to override the default hidden behavior on the sphinx rendered scikit-learn.org. See: https://github.com/scikit-learn/scikit-learn/issues/21755 */display: inline-block !important;position: relative;}#sk-container-id-1 div.sk-text-repr-fallback {display: none;}</style><div id=\"sk-container-id-1\" class=\"sk-top-container\"><div class=\"sk-text-repr-fallback\"><pre>OrdinalEncoder(encoded_missing_value=-1)</pre><b>In a Jupyter environment, please rerun this cell to show the HTML representation or trust the notebook. <br />On GitHub, the HTML representation is unable to render, please try loading this page with nbviewer.org.</b></div><div class=\"sk-container\" hidden><div class=\"sk-item\"><div class=\"sk-estimator sk-toggleable\"><input class=\"sk-toggleable__control sk-hidden--visually\" id=\"sk-estimator-id-1\" type=\"checkbox\" checked><label for=\"sk-estimator-id-1\" class=\"sk-toggleable__label sk-toggleable__label-arrow\">OrdinalEncoder</label><div class=\"sk-toggleable__content\"><pre>OrdinalEncoder(encoded_missing_value=-1)</pre></div></div></div></div></div>"
      ],
      "text/plain": [
       "OrdinalEncoder(encoded_missing_value=-1)"
      ]
     },
     "execution_count": 15,
     "metadata": {},
     "output_type": "execute_result"
    }
   ],
   "source": [
    "from sklearn.preprocessing import OrdinalEncoder\n",
    "\n",
    "enc = OrdinalEncoder(encoded_missing_value=-1)\n",
    "cols_to_transform = ['Race','Marital Status','T Stage ','N Stage','6th Stage','differentiate','Grade','A Stage','Estrogen Status','Progesterone Status','Status;']\n",
    "\n",
    "enc.fit(df_train_full[cols_to_transform])"
   ]
  },
  {
   "cell_type": "markdown",
   "id": "f4a6cad5-484a-4774-be26-759f533cbc6a",
   "metadata": {},
   "source": [
    "# Tarkastellaan enkoodausta."
   ]
  },
  {
   "cell_type": "code",
   "execution_count": 16,
   "id": "1308402b-6242-4cf0-ae49-8c35132914ad",
   "metadata": {},
   "outputs": [
    {
     "name": "stdout",
     "output_type": "stream",
     "text": [
      "{'Race': {('Black', 0), ('White', 2), ('Other', 1)}}\n",
      "{'Marital Status': {('Single ', 3), ('Divorced', 0), ('Widowed', 4), ('Married', 1), ('Separated', 2)}}\n",
      "{'T Stage ': {('T3', 2), ('T2', 1), ('T1', 0), ('T4', 3)}}\n",
      "{'N Stage': {('N1', 0), ('N2', 1), ('N3', 2)}}\n",
      "{'6th Stage': {('IIIB', 3), ('IIIC', 4), ('IIIA', 2), ('IIB', 1), ('IIA', 0)}}\n",
      "{'differentiate': {('Poorly differentiated', 1), ('Moderately differentiated', 0), ('Well differentiated', 3), ('Undifferentiated', 2)}}\n",
      "{'Grade': {(' anaplastic; Grade IV', 0), ('1', 1), ('3', 3), ('2', 2)}}\n",
      "{'A Stage': {('Regional', 1), ('Distant', 0)}}\n",
      "{'Estrogen Status': {('Negative', 0), ('Positive', 1)}}\n",
      "{'Progesterone Status': {('Negative', 0), ('Positive', 1)}}\n",
      "{'Status;': {('Dead', 1), ('Alive', 0)}}\n"
     ]
    }
   ],
   "source": [
    " for col, categories in zip(enc.get_feature_names_out(), enc.categories_):\n",
    "    mapping = {col: {(val, i) for i, val in enumerate(categories)}}\n",
    "    print(mapping)"
   ]
  },
  {
   "cell_type": "markdown",
   "id": "fdf2d482-7153-467b-8742-6e4f07281310",
   "metadata": {},
   "source": [
    "# Nyt sarakkeessa 'Status' arvo 0 tarkoittaa, että henkilö on elossa tarkkailuajan aikana ja arvo 1 tarkoittaa, että henkilö on kuollut tarkkailuajan kuluessa. "
   ]
  },
  {
   "cell_type": "markdown",
   "id": "29427728-8279-46ee-962b-9d49fac2961b",
   "metadata": {},
   "source": [
    "# Käydään asettamassa enkoodatut muuttujat uusine arvioineen paikalleen opetusdataan. "
   ]
  },
  {
   "cell_type": "code",
   "execution_count": 17,
   "id": "1e582e5d-0a3b-4fa0-91c8-1740cbf913b5",
   "metadata": {},
   "outputs": [],
   "source": [
    "train_full_cols_transformed = enc.transform(df_train_full[cols_to_transform])\n",
    "for i, col in enumerate(enc.get_feature_names_out()):\n",
    "    df_train_full[col] = train_full_cols_transformed[:, i]"
   ]
  },
  {
   "cell_type": "markdown",
   "id": "5fb45842-4cbb-4094-8b12-f77079e4cdcc",
   "metadata": {},
   "source": [
    "# Käydään asettamassa enkoodatut muuttujat uusine arvioineen paikalleen evaluointidataan."
   ]
  },
  {
   "cell_type": "code",
   "execution_count": 18,
   "id": "8ab2fcc8-966b-4187-bbb7-e456d21db9f7",
   "metadata": {},
   "outputs": [],
   "source": [
    "test_eval_cols_transformed = enc.transform(df_test_eval[cols_to_transform])\n",
    "for i, col in enumerate(enc.get_feature_names_out()):\n",
    "    df_test_eval[col] = test_eval_cols_transformed[:, i]"
   ]
  },
  {
   "cell_type": "markdown",
   "id": "2d3efd71-52db-4b03-a476-93a5d4081b6c",
   "metadata": {},
   "source": [
    " # Käydään asettamassa enkoodatut muuttujat uusine arvioineen paikalleen (unseen-data)."
   ]
  },
  {
   "cell_type": "code",
   "execution_count": 19,
   "id": "31f51919-3329-4a62-bcf5-f6b89812396e",
   "metadata": {},
   "outputs": [],
   "source": [
    "test_unseen_cols_transformed = enc.transform(df_test_unseen[cols_to_transform])\n",
    "for i, col in enumerate(enc.get_feature_names_out()):\n",
    "    df_test_unseen[col] = test_unseen_cols_transformed[:, i]"
   ]
  },
  {
   "cell_type": "markdown",
   "id": "ff5661c1-fb0b-40a1-a662-977fe8a8ed2e",
   "metadata": {},
   "source": [
    " # Otetaan mallinnukseen muuttujat df_trainista eli opetusdatasta."
   ]
  },
  {
   "cell_type": "code",
   "execution_count": 20,
   "id": "93c5b259-f759-4116-b332-5121cd3e4ab3",
   "metadata": {},
   "outputs": [],
   "source": [
    "df_train, df_val = train_test_split(df_train_full, test_size=0.2, random_state=33, stratify=df_train_full['Status;'])"
   ]
  },
  {
   "cell_type": "code",
   "execution_count": 21,
   "id": "39f12b63-84c0-4049-ada5-25d34901c49a",
   "metadata": {},
   "outputs": [],
   "source": [
    "X_train = df_train.iloc[:,0:15].to_numpy()\n",
    "y_train = df_train.iloc[:,15].to_numpy()\n",
    "    \n",
    "X_val = df_val.iloc[:,0:15].to_numpy()\n",
    "y_val = df_val.iloc[:,15].to_numpy()"
   ]
  },
  {
   "cell_type": "code",
   "execution_count": 22,
   "id": "d9d43f60-2ce4-4bf2-abc2-6eeac212913f",
   "metadata": {},
   "outputs": [
    {
     "name": "stdout",
     "output_type": "stream",
     "text": [
      "(2575, 15) (2575,)\n",
      "(644, 15) (644,)\n"
     ]
    }
   ],
   "source": [
    "print(X_train.shape, y_train.shape)\n",
    "print(X_val.shape, y_val.shape)"
   ]
  },
  {
   "cell_type": "markdown",
   "id": "782440b9-5c0c-4d0f-9a64-73eb1adfc9a8",
   "metadata": {},
   "source": [
    "#Ylläolevasta nähdään, että opetusdataa on 2575 riviä ja siellä on 15 muuttujaa. Lisäksi vastauksia (y_train) on 644.\n"
   ]
  },
  {
   "cell_type": "code",
   "execution_count": 23,
   "id": "50787d9e-ed01-4a74-9034-6cf6ea6ebe04",
   "metadata": {},
   "outputs": [
    {
     "name": "stdout",
     "output_type": "stream",
     "text": [
      "Index(['Age', 'Race', 'Marital Status', 'T Stage ', 'N Stage', '6th Stage',\n",
      "       'differentiate', 'Grade', 'A Stage', 'Tumor Size', 'Estrogen Status',\n",
      "       'Progesterone Status', 'Regional Node Examined',\n",
      "       'Reginol Node Positive', 'Survival Months'],\n",
      "      dtype='object')\n",
      "Index(['Status;'], dtype='object')\n"
     ]
    }
   ],
   "source": [
    "print(df_train.iloc[:,0:15].columns)\n",
    "print(df_train.iloc[:,15:].columns)"
   ]
  },
  {
   "cell_type": "code",
   "execution_count": 24,
   "id": "7e9e6db2-b8e1-468e-baf8-5956078986fe",
   "metadata": {},
   "outputs": [],
   "source": [
    "#\"Seuraavaksi tehdään mallinnusta. Otetaan sitä varten ensiksi kirjastoja käyttöön.\""
   ]
  },
  {
   "cell_type": "code",
   "execution_count": 25,
   "id": "e38cbd0a-2680-4410-9fbd-2938e6229694",
   "metadata": {},
   "outputs": [
    {
     "name": "stdout",
     "output_type": "stream",
     "text": [
      "Model: \"sequential\"\n",
      "_________________________________________________________________\n",
      " Layer (type)                Output Shape              Param #   \n",
      "=================================================================\n",
      " dense (Dense)               (None, 60)                960       \n",
      "                                                                 \n",
      " dense_1 (Dense)             (None, 30)                1830      \n",
      "                                                                 \n",
      " dense_2 (Dense)             (None, 10)                310       \n",
      "                                                                 \n",
      " dense_3 (Dense)             (None, 1)                 11        \n",
      "                                                                 \n",
      "=================================================================\n",
      "Total params: 3,111\n",
      "Trainable params: 3,111\n",
      "Non-trainable params: 0\n",
      "_________________________________________________________________\n"
     ]
    }
   ],
   "source": [
    "from tensorflow.keras import Sequential\n",
    "from tensorflow.keras.layers import Dense\n",
    "  \n",
    "model = Sequential()\n",
    "model.add(Dense(60, input_dim=15, activation=\"relu\"))\n",
    "model.add(Dense(30, activation=\"relu\"))\n",
    "model.add(Dense(10, activation=\"relu\"))\n",
    "model.add(Dense(1, activation=\"sigmoid\"))\n",
    "\n",
    "  \n",
    "model.summary()"
   ]
  },
  {
   "cell_type": "code",
   "execution_count": 26,
   "id": "87e8d40b-8179-4cca-9c05-ab3faee8c0d7",
   "metadata": {},
   "outputs": [],
   "source": [
    " model.compile(optimizer='adam', loss='binary_crossentropy', metrics=['accuracy']) "
   ]
  },
  {
   "cell_type": "code",
   "execution_count": 27,
   "id": "0148e00f-464c-4db9-9714-30e508cb3729",
   "metadata": {
    "tags": []
   },
   "outputs": [
    {
     "name": "stdout",
     "output_type": "stream",
     "text": [
      "Epoch 1/50\n",
      "322/322 [==============================] - 2s 5ms/step - loss: 0.3687 - accuracy: 0.8730 - val_loss: 0.3513 - val_accuracy: 0.8835\n",
      "Epoch 2/50\n",
      "322/322 [==============================] - 1s 4ms/step - loss: 0.3029 - accuracy: 0.8862 - val_loss: 0.3087 - val_accuracy: 0.8820\n",
      "Epoch 3/50\n",
      "322/322 [==============================] - 1s 4ms/step - loss: 0.3002 - accuracy: 0.8882 - val_loss: 0.3060 - val_accuracy: 0.8866\n",
      "Epoch 4/50\n",
      "322/322 [==============================] - 1s 4ms/step - loss: 0.2949 - accuracy: 0.8870 - val_loss: 0.2938 - val_accuracy: 0.8913\n",
      "Epoch 5/50\n",
      "322/322 [==============================] - 1s 4ms/step - loss: 0.3006 - accuracy: 0.8878 - val_loss: 0.2970 - val_accuracy: 0.8913\n",
      "Epoch 6/50\n",
      "322/322 [==============================] - 1s 5ms/step - loss: 0.2902 - accuracy: 0.8948 - val_loss: 0.2968 - val_accuracy: 0.8851\n",
      "Epoch 7/50\n",
      "322/322 [==============================] - 1s 5ms/step - loss: 0.2887 - accuracy: 0.8889 - val_loss: 0.3009 - val_accuracy: 0.8913\n",
      "Epoch 8/50\n",
      "322/322 [==============================] - 1s 5ms/step - loss: 0.2867 - accuracy: 0.8897 - val_loss: 0.2976 - val_accuracy: 0.8898\n",
      "Epoch 9/50\n",
      "322/322 [==============================] - 1s 4ms/step - loss: 0.2891 - accuracy: 0.8905 - val_loss: 0.3074 - val_accuracy: 0.8866\n",
      "Epoch 10/50\n",
      "322/322 [==============================] - 1s 4ms/step - loss: 0.2842 - accuracy: 0.8893 - val_loss: 0.2971 - val_accuracy: 0.8866\n",
      "Epoch 11/50\n",
      "322/322 [==============================] - 1s 5ms/step - loss: 0.2900 - accuracy: 0.8878 - val_loss: 0.2984 - val_accuracy: 0.8898\n",
      "Epoch 12/50\n",
      "322/322 [==============================] - 1s 4ms/step - loss: 0.2805 - accuracy: 0.8944 - val_loss: 0.2918 - val_accuracy: 0.8882\n",
      "Epoch 13/50\n",
      "322/322 [==============================] - 1s 4ms/step - loss: 0.2795 - accuracy: 0.8936 - val_loss: 0.3115 - val_accuracy: 0.8866\n",
      "Epoch 14/50\n",
      "322/322 [==============================] - 1s 5ms/step - loss: 0.2802 - accuracy: 0.8990 - val_loss: 0.2926 - val_accuracy: 0.8929\n",
      "Epoch 15/50\n",
      "322/322 [==============================] - 1s 5ms/step - loss: 0.2812 - accuracy: 0.8967 - val_loss: 0.2960 - val_accuracy: 0.8913\n",
      "Epoch 16/50\n",
      "322/322 [==============================] - 1s 5ms/step - loss: 0.2780 - accuracy: 0.8994 - val_loss: 0.2937 - val_accuracy: 0.8882\n",
      "Epoch 17/50\n",
      "322/322 [==============================] - 1s 5ms/step - loss: 0.2813 - accuracy: 0.8967 - val_loss: 0.2899 - val_accuracy: 0.8866\n",
      "Epoch 18/50\n",
      "322/322 [==============================] - 1s 5ms/step - loss: 0.2795 - accuracy: 0.8979 - val_loss: 0.3027 - val_accuracy: 0.8851\n",
      "Epoch 19/50\n",
      "322/322 [==============================] - 1s 5ms/step - loss: 0.2697 - accuracy: 0.8979 - val_loss: 0.3209 - val_accuracy: 0.8773\n",
      "Epoch 20/50\n",
      "322/322 [==============================] - 1s 4ms/step - loss: 0.2777 - accuracy: 0.8932 - val_loss: 0.3044 - val_accuracy: 0.8913\n",
      "Epoch 21/50\n",
      "322/322 [==============================] - 1s 5ms/step - loss: 0.2729 - accuracy: 0.8948 - val_loss: 0.2932 - val_accuracy: 0.8898\n",
      "Epoch 22/50\n",
      "322/322 [==============================] - 1s 5ms/step - loss: 0.2717 - accuracy: 0.9033 - val_loss: 0.2985 - val_accuracy: 0.8944\n",
      "Epoch 23/50\n",
      "322/322 [==============================] - 1s 5ms/step - loss: 0.2748 - accuracy: 0.8990 - val_loss: 0.3018 - val_accuracy: 0.8898\n",
      "Epoch 24/50\n",
      "322/322 [==============================] - 1s 4ms/step - loss: 0.2720 - accuracy: 0.8983 - val_loss: 0.2965 - val_accuracy: 0.8929\n",
      "Epoch 25/50\n",
      "322/322 [==============================] - 1s 4ms/step - loss: 0.2704 - accuracy: 0.9006 - val_loss: 0.2944 - val_accuracy: 0.8944\n",
      "Epoch 26/50\n",
      "322/322 [==============================] - 1s 5ms/step - loss: 0.2665 - accuracy: 0.8998 - val_loss: 0.2901 - val_accuracy: 0.8944\n",
      "Epoch 27/50\n",
      "322/322 [==============================] - 1s 5ms/step - loss: 0.2698 - accuracy: 0.9021 - val_loss: 0.3021 - val_accuracy: 0.8929\n",
      "Epoch 28/50\n",
      "322/322 [==============================] - 1s 5ms/step - loss: 0.2667 - accuracy: 0.8998 - val_loss: 0.2941 - val_accuracy: 0.8929\n",
      "Epoch 29/50\n",
      "322/322 [==============================] - 1s 5ms/step - loss: 0.2657 - accuracy: 0.9045 - val_loss: 0.3035 - val_accuracy: 0.8898\n",
      "Epoch 30/50\n",
      "322/322 [==============================] - 1s 5ms/step - loss: 0.2647 - accuracy: 0.9052 - val_loss: 0.2911 - val_accuracy: 0.8944\n",
      "Epoch 31/50\n",
      "322/322 [==============================] - 1s 5ms/step - loss: 0.2607 - accuracy: 0.9072 - val_loss: 0.2890 - val_accuracy: 0.8929\n",
      "Epoch 32/50\n",
      "322/322 [==============================] - 1s 5ms/step - loss: 0.2642 - accuracy: 0.9045 - val_loss: 0.2973 - val_accuracy: 0.8944\n",
      "Epoch 33/50\n",
      "322/322 [==============================] - 1s 5ms/step - loss: 0.2617 - accuracy: 0.9010 - val_loss: 0.3068 - val_accuracy: 0.8944\n",
      "Epoch 34/50\n",
      "322/322 [==============================] - 1s 4ms/step - loss: 0.2626 - accuracy: 0.9049 - val_loss: 0.2917 - val_accuracy: 0.8913\n",
      "Epoch 35/50\n",
      "322/322 [==============================] - 2s 5ms/step - loss: 0.2612 - accuracy: 0.9045 - val_loss: 0.2920 - val_accuracy: 0.8960\n",
      "Epoch 36/50\n",
      "322/322 [==============================] - 2s 5ms/step - loss: 0.2609 - accuracy: 0.9072 - val_loss: 0.2976 - val_accuracy: 0.8944\n",
      "Epoch 37/50\n",
      "322/322 [==============================] - 1s 5ms/step - loss: 0.2576 - accuracy: 0.9068 - val_loss: 0.2995 - val_accuracy: 0.8913\n",
      "Epoch 38/50\n",
      "322/322 [==============================] - 1s 5ms/step - loss: 0.2595 - accuracy: 0.9068 - val_loss: 0.2955 - val_accuracy: 0.8975\n",
      "Epoch 39/50\n",
      "322/322 [==============================] - 1s 4ms/step - loss: 0.2548 - accuracy: 0.9080 - val_loss: 0.2882 - val_accuracy: 0.9022\n",
      "Epoch 40/50\n",
      "322/322 [==============================] - 1s 4ms/step - loss: 0.2595 - accuracy: 0.9064 - val_loss: 0.2912 - val_accuracy: 0.8975\n",
      "Epoch 41/50\n",
      "322/322 [==============================] - 1s 4ms/step - loss: 0.2585 - accuracy: 0.9052 - val_loss: 0.3070 - val_accuracy: 0.8929\n",
      "Epoch 42/50\n",
      "322/322 [==============================] - 1s 4ms/step - loss: 0.2569 - accuracy: 0.9064 - val_loss: 0.3099 - val_accuracy: 0.8882\n",
      "Epoch 43/50\n",
      "322/322 [==============================] - 1s 5ms/step - loss: 0.2584 - accuracy: 0.9107 - val_loss: 0.2976 - val_accuracy: 0.8944\n",
      "Epoch 44/50\n",
      "322/322 [==============================] - 1s 4ms/step - loss: 0.2541 - accuracy: 0.9134 - val_loss: 0.2986 - val_accuracy: 0.8944\n",
      "Epoch 45/50\n",
      "322/322 [==============================] - 1s 4ms/step - loss: 0.2545 - accuracy: 0.9107 - val_loss: 0.3070 - val_accuracy: 0.8944\n",
      "Epoch 46/50\n",
      "322/322 [==============================] - 1s 5ms/step - loss: 0.2577 - accuracy: 0.9080 - val_loss: 0.3094 - val_accuracy: 0.8991\n",
      "Epoch 47/50\n",
      "322/322 [==============================] - 1s 5ms/step - loss: 0.2540 - accuracy: 0.9091 - val_loss: 0.2981 - val_accuracy: 0.8944\n",
      "Epoch 48/50\n",
      "322/322 [==============================] - 1s 5ms/step - loss: 0.2517 - accuracy: 0.9122 - val_loss: 0.3015 - val_accuracy: 0.8882\n",
      "Epoch 49/50\n",
      "322/322 [==============================] - 1s 5ms/step - loss: 0.2542 - accuracy: 0.9118 - val_loss: 0.3134 - val_accuracy: 0.8898\n",
      "Epoch 50/50\n",
      "322/322 [==============================] - 1s 5ms/step - loss: 0.2511 - accuracy: 0.9095 - val_loss: 0.3012 - val_accuracy: 0.8929\n"
     ]
    },
    {
     "data": {
      "text/plain": [
       "<keras.callbacks.History at 0x1b780119a00>"
      ]
     },
     "execution_count": 27,
     "metadata": {},
     "output_type": "execute_result"
    }
   ],
   "source": [
    "model.fit(X_train, y_train, validation_data=(X_val, y_val), epochs=50, batch_size=8)"
   ]
  },
  {
   "cell_type": "code",
   "execution_count": 28,
   "id": "0bcdf29e-b2e8-46a3-b843-b6b06b4670f9",
   "metadata": {},
   "outputs": [
    {
     "name": "stdout",
     "output_type": "stream",
     "text": [
      "13/13 [==============================] - 0s 3ms/step - loss: 0.2973 - accuracy: 0.9055\n",
      "Accuracy: 90.55\n"
     ]
    }
   ],
   "source": [
    "X_test_eval = df_test_eval.iloc[:,0:15].to_numpy()\n",
    "y_test_eval = df_test_eval.iloc[:,15].to_numpy()\n",
    "  \n",
    "_, accuracy = model.evaluate(X_test_eval, y_test_eval)\n",
    "print('Accuracy: %.2f' % (accuracy*100))"
   ]
  },
  {
   "cell_type": "code",
   "execution_count": 29,
   "id": "5d03448d-5963-4d5f-bc8b-d2c93faa6c47",
   "metadata": {},
   "outputs": [
    {
     "name": "stdout",
     "output_type": "stream",
     "text": [
      "(402, 1)\n"
     ]
    },
    {
     "data": {
      "text/plain": [
       "array([[0.00953774],\n",
       "       [0.00673565],\n",
       "       [0.02778854],\n",
       "       [0.3406252 ],\n",
       "       [0.14207503]], dtype=float32)"
      ]
     },
     "execution_count": 29,
     "metadata": {},
     "output_type": "execute_result"
    }
   ],
   "source": [
    "preds = model.predict(X_test_eval)\n",
    "print(preds.shape)\n",
    "\n",
    "preds[:5]"
   ]
  },
  {
   "cell_type": "markdown",
   "id": "9bb9cc92-9ae4-4ee7-8a22-6d48f26ed244",
   "metadata": {},
   "source": [
    "# Seuraavasta nähdään todennäköisyydet kullekin havainolle. Jos arvo on enemmän kuin 0.5, niin silloin ennustamisessa oltaisiin varmoja siitä, että syöpään sairastunut on kuollut."
   ]
  },
  {
   "cell_type": "code",
   "execution_count": 30,
   "id": "bcbaa9ee-7641-4e49-be13-931a56561b77",
   "metadata": {},
   "outputs": [
    {
     "data": {
      "text/plain": [
       "array([0, 0, 0, 0, 0, 0, 0, 0, 0, 0, 0, 0, 0, 0, 0, 0, 0, 1, 0, 0, 0, 1,\n",
       "       0, 0, 0, 0, 0, 0, 0, 0, 0, 0, 0, 0, 0, 0, 0, 1, 0, 0, 0, 0, 0, 1,\n",
       "       0, 0, 1, 0, 0, 0, 0, 0, 0, 0, 0, 0, 0, 0, 0, 0, 0, 0, 1, 0, 0, 0,\n",
       "       0, 0, 0, 0, 0, 0, 0, 0, 0, 0, 0, 0, 0, 0, 0, 1, 0, 0, 0, 0, 0, 0,\n",
       "       0, 0, 0, 0, 0, 0, 0, 0, 0, 0, 0, 0, 1, 0, 0, 0, 0, 0, 0, 0, 0, 1,\n",
       "       0, 0, 0, 0, 0, 0, 1, 1, 0, 0, 0, 0, 0, 0, 1, 0, 0, 0, 0, 0, 0, 0,\n",
       "       0, 0, 0, 0, 0, 0, 0, 0, 0, 0, 0, 0, 0, 0, 0, 0, 0, 0, 0, 0, 0, 1,\n",
       "       0, 0, 0, 0, 0, 1, 0, 0, 0, 1, 0, 0, 0, 0, 0, 0, 0, 0, 0, 0, 0, 0,\n",
       "       0, 0, 0, 0, 0, 0, 0, 0, 0, 1, 0, 0, 0, 0, 0, 0, 0, 0, 0, 0, 0, 1,\n",
       "       0, 0, 0, 0, 0, 0, 1, 0, 0, 0, 0, 0, 0, 0, 0, 1, 0, 0, 0, 0, 0, 1,\n",
       "       0, 0, 1, 0, 0, 0, 0, 0, 0, 0, 0, 0, 0, 0, 1, 0, 0, 0, 0, 0, 0, 0,\n",
       "       1, 0, 0, 0, 0, 0, 0, 0, 0, 0, 0, 0, 0, 0, 0, 0, 0, 0, 0, 0, 0, 0,\n",
       "       0, 0, 0, 0, 0, 0, 0, 0, 0, 0, 0, 0, 1, 0, 0, 0, 0, 0, 0, 0, 0, 0,\n",
       "       0, 0, 0, 0, 0, 0, 0, 0, 0, 0, 0, 0, 0, 0, 0, 0, 0, 0, 0, 0, 0, 0,\n",
       "       0, 1, 0, 0, 0, 0, 0, 1, 0, 0, 0, 0, 0, 0, 1, 0, 0, 0, 0, 0, 0, 0,\n",
       "       0, 0, 0, 0, 0, 0, 0, 0, 1, 0, 0, 0, 0, 0, 1, 0, 0, 0, 0, 0, 0, 0,\n",
       "       0, 0, 0, 0, 0, 0, 0, 1, 0, 0, 0, 0, 0, 1, 0, 0, 0, 0, 0, 0, 0, 0,\n",
       "       1, 0, 0, 0, 0, 0, 0, 1, 0, 0, 0, 0, 0, 0, 0, 0, 0, 0, 0, 0, 0, 0,\n",
       "       0, 0, 0, 0, 0, 0])"
      ]
     },
     "execution_count": 30,
     "metadata": {},
     "output_type": "execute_result"
    }
   ],
   "source": [
    "preds_labels = (preds[:, 0]> 0.5).astype(int)\n",
    "   \n",
    "preds_labels"
   ]
  },
  {
   "cell_type": "markdown",
   "id": "c4e19a78-269d-4529-859d-aab43aedeb5e",
   "metadata": {},
   "source": [
    "# Mallin tarkkuuden laskeminen"
   ]
  },
  {
   "cell_type": "code",
   "execution_count": 31,
   "id": "bfc21e1a-3ce1-40d3-8ae6-e91784697250",
   "metadata": {},
   "outputs": [
    {
     "name": "stdout",
     "output_type": "stream",
     "text": [
      "Accuracy with unseen 402 samples: 90.547\n"
     ]
    }
   ],
   "source": [
    "acc = np.count_nonzero(preds_labels == y_test_eval) / len(y_test_eval)\n",
    "   \n",
    "print(f\"Accuracy with unseen {len(y_test_eval)} samples: {acc*100:.3f}\")"
   ]
  },
  {
   "cell_type": "markdown",
   "id": "d2a3c568-2592-4b97-b905-a6dd3c1da659",
   "metadata": {},
   "source": [
    "# Tästä siis nähdään, että tarkkuus on samaa suuruusluokkaa kuin opetusdatassa."
   ]
  },
  {
   "cell_type": "code",
   "execution_count": 32,
   "id": "a54b7eed-4c89-466f-9818-4a8d0c30368d",
   "metadata": {},
   "outputs": [],
   "source": [
    "\n",
    "    #\"Etsitään korrelaatiota 'Statuksen' suhteen. Arvot voivat olla välillä pienimmillään -1 ja suurimmillaan 1. Mitä lähempänä arvoa 1 ollaan, sen suurempi korrelaatio. Näissä tuloksissa ei näy vahvaa korrelaatiota minkään muun muuttujan kanssa.\"\n",
    " "
   ]
  },
  {
   "cell_type": "code",
   "execution_count": 33,
   "id": "fc4b43e7-2145-4289-afcb-d8283e1f89f5",
   "metadata": {},
   "outputs": [
    {
     "data": {
      "text/plain": [
       "<AxesSubplot:>"
      ]
     },
     "execution_count": 33,
     "metadata": {},
     "output_type": "execute_result"
    },
    {
     "data": {
      "image/png": "[encoded data removed]",
      "text/plain": [
       "<Figure size 640x480 with 1 Axes>"
      ]
     },
     "metadata": {},
     "output_type": "display_data"
    }
   ],
   "source": [
    " df_train_full['Status;'].hist()"
   ]
  },
  {
   "cell_type": "code",
   "execution_count": 34,
   "id": "bf9e2fd2-9b84-47b3-b44a-ce8c52a632b4",
   "metadata": {},
   "outputs": [
    {
     "data": {
      "image/png": "[encoded data removed]",
      "text/plain": [
       "<Figure size 1200x800 with 36 Axes>"
      ]
     },
     "metadata": {},
     "output_type": "display_data"
    }
   ],
   "source": [
    "from pandas.plotting import scatter_matrix\n",
    "   \n",
    "attributes = [\"6th Stage\", \"Reginol Node Positive\", \"N Stage\", \"T Stage \",\"Tumor Size\",\"Grade\"]\n",
    "scatter_matrix(df_train_full[attributes], figsize=(12, 8));"
   ]
  },
  {
   "cell_type": "markdown",
   "id": "2a668d32-3493-4ff5-8ca5-b8c5900f1e87",
   "metadata": {},
   "source": [
    "# Eniten kuolleisuutta tuntuu vastaavan '6th Stage'\n",
    "  \n",
    "# Seuraavassa kuvassa katsotaan tarkemmin näiden korrelaatiota ja tämän perusteella nähdään, että korrelaatiota on, mutta ei kovin merkittävästi."
   ]
  },
  {
   "cell_type": "code",
   "execution_count": 35,
   "id": "8677a6de-cfa2-49d3-9d60-62458758749c",
   "metadata": {},
   "outputs": [
    {
     "data": {
      "text/plain": [
       "<AxesSubplot:xlabel='Status;', ylabel='6th Stage'>"
      ]
     },
     "execution_count": 35,
     "metadata": {},
     "output_type": "execute_result"
    },
    {
     "data": {
      "image/png": "[encoded data removed]",
      "text/plain": [
       "<Figure size 640x480 with 1 Axes>"
      ]
     },
     "metadata": {},
     "output_type": "display_data"
    }
   ],
   "source": [
    "df_train.plot(kind=\"scatter\", x=\"Status;\", y=\"6th Stage\", alpha=0.1)"
   ]
  },
  {
   "cell_type": "markdown",
   "id": "2212fe37-bec8-48b1-a40f-976a4d9289db",
   "metadata": {},
   "source": [
    "# Seuraavassa vielä nähdään, että miten malli on ennustanut arvoa ja onko se mennyt oikein (True=1, False=0)"
   ]
  },
  {
   "cell_type": "code",
   "execution_count": 36,
   "id": "cbdfb2a7-fe55-4361-ac44-b48109d6aea0",
   "metadata": {},
   "outputs": [
    {
     "name": "stdout",
     "output_type": "stream",
     "text": [
      "[53.0, 2.0, 1.0, 0.0, 0.0, 0.0, 0.0, 2.0, 1.0, 13.0, 1.0, 1.0, 14.0, 1.0, 100.0] => 0 (expected 0)\n",
      "[43.0, 2.0, 1.0, 0.0, 0.0, 0.0, 0.0, 2.0, 1.0, 1.0, 1.0, 1.0, 12.0, 1.0, 106.0] => 0 (expected 0)\n",
      "[62.0, 2.0, 1.0, 0.0, 0.0, 0.0, 3.0, 1.0, 1.0, 15.0, 1.0, 1.0, 5.0, 1.0, 67.0] => 0 (expected 0)\n",
      "[56.0, 2.0, 1.0, 1.0, 0.0, 1.0, 0.0, 2.0, 1.0, 48.0, 1.0, 1.0, 3.0, 1.0, 41.0] => 0 (expected 0)\n",
      "[46.0, 2.0, 1.0, 1.0, 2.0, 4.0, 1.0, 3.0, 1.0, 40.0, 0.0, 0.0, 12.0, 11.0, 71.0] => 0 (expected 0)\n",
      "[66.0, 2.0, 1.0, 2.0, 0.0, 2.0, 0.0, 2.0, 1.0, 80.0, 1.0, 1.0, 20.0, 1.0, 91.0] => 0 (expected 0)\n",
      "[47.0, 2.0, 1.0, 2.0, 0.0, 2.0, 0.0, 2.0, 1.0, 70.0, 1.0, 1.0, 32.0, 1.0, 102.0] => 0 (expected 0)\n",
      "[51.0, 2.0, 3.0, 1.0, 0.0, 1.0, 0.0, 2.0, 1.0, 25.0, 1.0, 1.0, 9.0, 1.0, 84.0] => 0 (expected 0)\n",
      "[68.0, 0.0, 4.0, 1.0, 0.0, 1.0, 1.0, 3.0, 1.0, 45.0, 1.0, 1.0, 1.0, 1.0, 102.0] => 0 (expected 0)\n",
      "[54.0, 2.0, 1.0, 2.0, 0.0, 2.0, 1.0, 3.0, 1.0, 54.0, 1.0, 0.0, 13.0, 1.0, 50.0] => 0 (expected 0)\n"
     ]
    }
   ],
   "source": [
    "for i in range(10):\n",
    "    print('%s => %s (expected %d)' % (X_test_eval[i].tolist(), preds_labels[i], y_test_eval[i]))"
   ]
  },
  {
   "cell_type": "markdown",
   "id": "669ec3b4-7982-42e1-a3bf-c754d317d995",
   "metadata": {},
   "source": [
    "# Tallenetaan tarvittavat tiedostot muita käyttötarkoituksia varten."
   ]
  },
  {
   "cell_type": "code",
   "execution_count": 47,
   "id": "16068edd-70c9-4902-9f9d-d61772f2ff53",
   "metadata": {},
   "outputs": [],
   "source": [
    "df_train_full.to_csv(\"C:/Users/hetas/df_train_full.csv\")\n",
    "\n",
    "df_test_eval.to_csv(\"C:/Users/hetas/df_test_eval.csv\")"
   ]
  },
  {
   "cell_type": "code",
   "execution_count": null,
   "id": "9a4d91dd-45eb-4987-89c5-54e354c23c4b",
   "metadata": {},
   "outputs": [],
   "source": []
  }
 ],
 "metadata": {
  "kernelspec": {
   "display_name": "Python 3 (ipykernel)",
   "language": "python",
   "name": "python3"
  },
  "language_info": {
   "codemirror_mode": {
    "name": "ipython",
    "version": 3
   },
   "file_extension": ".py",
   "mimetype": "text/x-python",
   "name": "python",
   "nbconvert_exporter": "python",
   "pygments_lexer": "ipython3",
   "version": "3.9.13"
  }
 },
 "nbformat": 4,
 "nbformat_minor": 5
}
