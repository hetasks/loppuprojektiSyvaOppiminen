{
 "cells": [
  {
   "cell_type": "code",
   "execution_count": 1,
   "id": "70f0e949-016f-45dc-aaaa-0a095afd772e",
   "metadata": {},
   "outputs": [],
   "source": [
    "import numpy as np\n",
    "import pandas as pd\n",
    "\n",
    "import matplotlib.pyplot as plt"
   ]
  },
  {
   "cell_type": "code",
   "execution_count": 2,
   "id": "0bb31784-6d7c-4a88-8cc1-6d43464279c5",
   "metadata": {},
   "outputs": [],
   "source": [
    "df_breastCancer = pd.read_csv(\"https://raw.githubusercontent.com/hetasks/loppuprojektiSyvaOppiminen/main/Breast_Cancer.csv\", sep=\",\")\n"
   ]
  },
  {
   "cell_type": "markdown",
   "id": "f201e8f1-b258-4459-8b78-a28bbf2603b7",
   "metadata": {},
   "source": [
    "Tutkitaan sarakkeita otsikkotasolla mitä datasta löytyy."
   ]
  },
  {
   "cell_type": "code",
   "execution_count": 3,
   "id": "f7d7ae37-e40e-45c3-b684-a441aad4fb5a",
   "metadata": {},
   "outputs": [
    {
     "data": {
      "text/plain": [
       "['Age',\n",
       " 'Race',\n",
       " 'Marital Status',\n",
       " 'T Stage ',\n",
       " 'N Stage',\n",
       " '6th Stage',\n",
       " 'differentiate',\n",
       " 'Grade',\n",
       " 'A Stage',\n",
       " 'Tumor Size',\n",
       " 'Estrogen Status',\n",
       " 'Progesterone Status',\n",
       " 'Regional Node Examined',\n",
       " 'Reginol Node Positive',\n",
       " 'Survival Months',\n",
       " 'Status;']"
      ]
     },
     "execution_count": 3,
     "metadata": {},
     "output_type": "execute_result"
    }
   ],
   "source": [
    "df_breastCancer.columns.tolist() "
   ]
  },
  {
   "cell_type": "code",
   "execution_count": 4,
   "id": "a5e753f5-15a0-461d-aedf-667071012d1b",
   "metadata": {},
   "outputs": [
    {
     "data": {
      "text/html": [
       "<div>\n",
       "<style scoped>\n",
       "    .dataframe tbody tr th:only-of-type {\n",
       "        vertical-align: middle;\n",
       "    }\n",
       "\n",
       "    .dataframe tbody tr th {\n",
       "        vertical-align: top;\n",
       "    }\n",
       "\n",
       "    .dataframe thead th {\n",
       "        text-align: right;\n",
       "    }\n",
       "</style>\n",
       "<table border=\"1\" class=\"dataframe\">\n",
       "  <thead>\n",
       "    <tr style=\"text-align: right;\">\n",
       "      <th></th>\n",
       "      <th>Age</th>\n",
       "      <th>Race</th>\n",
       "      <th>Marital Status</th>\n",
       "      <th>T Stage</th>\n",
       "      <th>N Stage</th>\n",
       "      <th>6th Stage</th>\n",
       "      <th>differentiate</th>\n",
       "      <th>Grade</th>\n",
       "      <th>A Stage</th>\n",
       "      <th>Tumor Size</th>\n",
       "      <th>Estrogen Status</th>\n",
       "      <th>Progesterone Status</th>\n",
       "      <th>Regional Node Examined</th>\n",
       "      <th>Reginol Node Positive</th>\n",
       "      <th>Survival Months</th>\n",
       "      <th>Status;</th>\n",
       "    </tr>\n",
       "  </thead>\n",
       "  <tbody>\n",
       "    <tr>\n",
       "      <th>0</th>\n",
       "      <td>68</td>\n",
       "      <td>White</td>\n",
       "      <td>Married</td>\n",
       "      <td>T1</td>\n",
       "      <td>N1</td>\n",
       "      <td>IIA</td>\n",
       "      <td>Poorly differentiated</td>\n",
       "      <td>3</td>\n",
       "      <td>Regional</td>\n",
       "      <td>4</td>\n",
       "      <td>Positive</td>\n",
       "      <td>Positive</td>\n",
       "      <td>24</td>\n",
       "      <td>1</td>\n",
       "      <td>60</td>\n",
       "      <td>Alive;</td>\n",
       "    </tr>\n",
       "    <tr>\n",
       "      <th>1</th>\n",
       "      <td>50</td>\n",
       "      <td>White</td>\n",
       "      <td>Married</td>\n",
       "      <td>T2</td>\n",
       "      <td>N2</td>\n",
       "      <td>IIIA</td>\n",
       "      <td>Moderately differentiated</td>\n",
       "      <td>2</td>\n",
       "      <td>Regional</td>\n",
       "      <td>35</td>\n",
       "      <td>Positive</td>\n",
       "      <td>Positive</td>\n",
       "      <td>14</td>\n",
       "      <td>5</td>\n",
       "      <td>62</td>\n",
       "      <td>Alive;</td>\n",
       "    </tr>\n",
       "    <tr>\n",
       "      <th>2</th>\n",
       "      <td>58</td>\n",
       "      <td>White</td>\n",
       "      <td>Divorced</td>\n",
       "      <td>T3</td>\n",
       "      <td>N3</td>\n",
       "      <td>IIIC</td>\n",
       "      <td>Moderately differentiated</td>\n",
       "      <td>2</td>\n",
       "      <td>Regional</td>\n",
       "      <td>63</td>\n",
       "      <td>Positive</td>\n",
       "      <td>Positive</td>\n",
       "      <td>14</td>\n",
       "      <td>7</td>\n",
       "      <td>75</td>\n",
       "      <td>Alive;</td>\n",
       "    </tr>\n",
       "    <tr>\n",
       "      <th>3</th>\n",
       "      <td>58</td>\n",
       "      <td>White</td>\n",
       "      <td>Married</td>\n",
       "      <td>T1</td>\n",
       "      <td>N1</td>\n",
       "      <td>IIA</td>\n",
       "      <td>Poorly differentiated</td>\n",
       "      <td>3</td>\n",
       "      <td>Regional</td>\n",
       "      <td>18</td>\n",
       "      <td>Positive</td>\n",
       "      <td>Positive</td>\n",
       "      <td>2</td>\n",
       "      <td>1</td>\n",
       "      <td>84</td>\n",
       "      <td>Alive;</td>\n",
       "    </tr>\n",
       "    <tr>\n",
       "      <th>4</th>\n",
       "      <td>47</td>\n",
       "      <td>White</td>\n",
       "      <td>Married</td>\n",
       "      <td>T2</td>\n",
       "      <td>N1</td>\n",
       "      <td>IIB</td>\n",
       "      <td>Poorly differentiated</td>\n",
       "      <td>3</td>\n",
       "      <td>Regional</td>\n",
       "      <td>41</td>\n",
       "      <td>Positive</td>\n",
       "      <td>Positive</td>\n",
       "      <td>3</td>\n",
       "      <td>1</td>\n",
       "      <td>50</td>\n",
       "      <td>Alive;</td>\n",
       "    </tr>\n",
       "  </tbody>\n",
       "</table>\n",
       "</div>"
      ],
      "text/plain": [
       "   Age   Race Marital Status T Stage  N Stage 6th Stage  \\\n",
       "0   68  White        Married       T1      N1       IIA   \n",
       "1   50  White        Married       T2      N2      IIIA   \n",
       "2   58  White       Divorced       T3      N3      IIIC   \n",
       "3   58  White        Married       T1      N1       IIA   \n",
       "4   47  White        Married       T2      N1       IIB   \n",
       "\n",
       "               differentiate Grade   A Stage  Tumor Size Estrogen Status  \\\n",
       "0      Poorly differentiated     3  Regional           4        Positive   \n",
       "1  Moderately differentiated     2  Regional          35        Positive   \n",
       "2  Moderately differentiated     2  Regional          63        Positive   \n",
       "3      Poorly differentiated     3  Regional          18        Positive   \n",
       "4      Poorly differentiated     3  Regional          41        Positive   \n",
       "\n",
       "  Progesterone Status  Regional Node Examined  Reginol Node Positive  \\\n",
       "0            Positive                      24                      1   \n",
       "1            Positive                      14                      5   \n",
       "2            Positive                      14                      7   \n",
       "3            Positive                       2                      1   \n",
       "4            Positive                       3                      1   \n",
       "\n",
       "   Survival Months Status;  \n",
       "0               60  Alive;  \n",
       "1               62  Alive;  \n",
       "2               75  Alive;  \n",
       "3               84  Alive;  \n",
       "4               50  Alive;  "
      ]
     },
     "execution_count": 4,
     "metadata": {},
     "output_type": "execute_result"
    }
   ],
   "source": [
    "df_breastCancer.head()"
   ]
  },
  {
   "cell_type": "markdown",
   "id": "dc7f13ea-49fd-4eae-bc69-632e269c2469",
   "metadata": {},
   "source": [
    "Seuraavassa nähdään tarkemmin kuinka monta saraketta ja kuinka monta riviä data sisältää. Nähdään myös, että osa datasta on numeerista dataa ja osa on datatyypiltään object."
   ]
  },
  {
   "cell_type": "code",
   "execution_count": 5,
   "id": "649c20d5-1a53-4948-8283-cbee5a2cd742",
   "metadata": {},
   "outputs": [
    {
     "name": "stdout",
     "output_type": "stream",
     "text": [
      "<class 'pandas.core.frame.DataFrame'>\n",
      "RangeIndex: 4024 entries, 0 to 4023\n",
      "Data columns (total 16 columns):\n",
      " #   Column                  Non-Null Count  Dtype \n",
      "---  ------                  --------------  ----- \n",
      " 0   Age                     4024 non-null   int64 \n",
      " 1   Race                    4024 non-null   object\n",
      " 2   Marital Status          4024 non-null   object\n",
      " 3   T Stage                 4024 non-null   object\n",
      " 4   N Stage                 4024 non-null   object\n",
      " 5   6th Stage               4024 non-null   object\n",
      " 6   differentiate           4024 non-null   object\n",
      " 7   Grade                   4024 non-null   object\n",
      " 8   A Stage                 4024 non-null   object\n",
      " 9   Tumor Size              4024 non-null   int64 \n",
      " 10  Estrogen Status         4024 non-null   object\n",
      " 11  Progesterone Status     4024 non-null   object\n",
      " 12  Regional Node Examined  4024 non-null   int64 \n",
      " 13  Reginol Node Positive   4024 non-null   int64 \n",
      " 14  Survival Months         4024 non-null   int64 \n",
      " 15  Status;                 4024 non-null   object\n",
      "dtypes: int64(5), object(11)\n",
      "memory usage: 503.1+ KB\n"
     ]
    }
   ],
   "source": [
    "df_breastCancer.info()"
   ]
  },
  {
   "cell_type": "markdown",
   "id": "0975d3a1-84a8-450a-8101-6ddcfd1ea9ec",
   "metadata": {},
   "source": [
    "Tarkistetaan vielä, että ei ole tyhjiä arvoja."
   ]
  },
  {
   "cell_type": "code",
   "execution_count": 6,
   "id": "d3886680-720e-4029-8075-ead35c23e837",
   "metadata": {},
   "outputs": [
    {
     "data": {
      "text/plain": [
       "Age                       0\n",
       "Race                      0\n",
       "Marital Status            0\n",
       "T Stage                   0\n",
       "N Stage                   0\n",
       "6th Stage                 0\n",
       "differentiate             0\n",
       "Grade                     0\n",
       "A Stage                   0\n",
       "Tumor Size                0\n",
       "Estrogen Status           0\n",
       "Progesterone Status       0\n",
       "Regional Node Examined    0\n",
       "Reginol Node Positive     0\n",
       "Survival Months           0\n",
       "Status;                   0\n",
       "dtype: int64"
      ]
     },
     "execution_count": 6,
     "metadata": {},
     "output_type": "execute_result"
    }
   ],
   "source": [
    "df_breastCancer.isnull().sum()"
   ]
  },
  {
   "cell_type": "code",
   "execution_count": 7,
   "id": "7a8efb0b-cfb5-4afb-a35c-8b04691a2d2b",
   "metadata": {},
   "outputs": [
    {
     "data": {
      "text/plain": [
       "Alive;    3398\n",
       "Dead;      607\n",
       "Alive       10\n",
       "Dead         9\n",
       "Name: Status;, dtype: int64"
      ]
     },
     "execution_count": 7,
     "metadata": {},
     "output_type": "execute_result"
    }
   ],
   "source": [
    "df_breastCancer['Status;'].value_counts()"
   ]
  },
  {
   "cell_type": "markdown",
   "id": "8c45f6f2-5865-43c8-802b-752d5fcfc21f",
   "metadata": {},
   "source": [
    "Yllä olevasta nähdään, että sarakkeessa 'Status' on kirjattu arvoja hieman eri tavoilla. Muuten nämä niin, että sarakkeiden arvoista poistetaan ylimääräiset kaksoispisteet."
   ]
  },
  {
   "cell_type": "code",
   "execution_count": 8,
   "id": "e891eed4-ac1a-41c5-bae3-923f31080597",
   "metadata": {},
   "outputs": [],
   "source": [
    "df_breastCancer['Status;'] = df_breastCancer['Status;'].replace(['Alive;'], 'Alive')"
   ]
  },
  {
   "cell_type": "code",
   "execution_count": 9,
   "id": "5cabdf2b-6501-4629-97ce-8a658970e74d",
   "metadata": {},
   "outputs": [],
   "source": [
    "df_breastCancer['Status;'] = df_breastCancer['Status;'].replace(['Dead;'], 'Dead')"
   ]
  },
  {
   "cell_type": "code",
   "execution_count": 10,
   "id": "564011a4-21db-46c3-9be2-f87e9214ac2e",
   "metadata": {},
   "outputs": [
    {
     "data": {
      "text/plain": [
       "Alive    3408\n",
       "Dead      616\n",
       "Name: Status;, dtype: int64"
      ]
     },
     "execution_count": 10,
     "metadata": {},
     "output_type": "execute_result"
    }
   ],
   "source": [
    "df_breastCancer['Status;'].value_counts()"
   ]
  },
  {
   "cell_type": "markdown",
   "id": "61c89465-cec3-4096-887a-7f32da1e9928",
   "metadata": {},
   "source": [
    "Koska koneoppisen algoritmit ymmärtävät suurimmaksi osaksi numeerista dataa, niin muutetaan object-tyyppiset sarakkeet numeerisiksi."
   ]
  },
  {
   "cell_type": "code",
   "execution_count": 11,
   "id": "1e7423a7-c553-423e-8179-2bbc0bd6d230",
   "metadata": {},
   "outputs": [
    {
     "name": "stdout",
     "output_type": "stream",
     "text": [
      "<class 'pandas.core.frame.DataFrame'>\n",
      "RangeIndex: 4024 entries, 0 to 4023\n",
      "Data columns (total 16 columns):\n",
      " #   Column                  Non-Null Count  Dtype\n",
      "---  ------                  --------------  -----\n",
      " 0   Age                     4024 non-null   int64\n",
      " 1   Race                    4024 non-null   int32\n",
      " 2   Marital Status          4024 non-null   int32\n",
      " 3   T Stage                 4024 non-null   int32\n",
      " 4   N Stage                 4024 non-null   int32\n",
      " 5   6th Stage               4024 non-null   int32\n",
      " 6   differentiate           4024 non-null   int32\n",
      " 7   Grade                   4024 non-null   int32\n",
      " 8   A Stage                 4024 non-null   int32\n",
      " 9   Tumor Size              4024 non-null   int64\n",
      " 10  Estrogen Status         4024 non-null   int32\n",
      " 11  Progesterone Status     4024 non-null   int32\n",
      " 12  Regional Node Examined  4024 non-null   int64\n",
      " 13  Reginol Node Positive   4024 non-null   int64\n",
      " 14  Survival Months         4024 non-null   int64\n",
      " 15  Status;                 4024 non-null   int32\n",
      "dtypes: int32(11), int64(5)\n",
      "memory usage: 330.2 KB\n"
     ]
    }
   ],
   "source": [
    "from sklearn.preprocessing import LabelEncoder\n",
    "\n",
    "encoder = LabelEncoder()\n",
    "def encodeColumn(parameter):\n",
    "    df_breastCancer[parameter] = encoder.fit_transform(df_breastCancer[parameter])\n",
    "\n",
    "# Run Function\n",
    "listColumn = ['Race','Marital Status','T Stage ','N Stage','6th Stage','differentiate','Grade','A Stage','Estrogen Status','Progesterone Status','Status;']\n",
    "for i in listColumn:\n",
    "    encodeColumn(i)\n",
    "df_breastCancer.info()"
   ]
  },
  {
   "cell_type": "code",
   "execution_count": 12,
   "id": "3b5b4eca-b89f-4d1d-8a30-d013d5b7e0c2",
   "metadata": {},
   "outputs": [
    {
     "data": {
      "text/html": [
       "<div>\n",
       "<style scoped>\n",
       "    .dataframe tbody tr th:only-of-type {\n",
       "        vertical-align: middle;\n",
       "    }\n",
       "\n",
       "    .dataframe tbody tr th {\n",
       "        vertical-align: top;\n",
       "    }\n",
       "\n",
       "    .dataframe thead th {\n",
       "        text-align: right;\n",
       "    }\n",
       "</style>\n",
       "<table border=\"1\" class=\"dataframe\">\n",
       "  <thead>\n",
       "    <tr style=\"text-align: right;\">\n",
       "      <th></th>\n",
       "      <th>Age</th>\n",
       "      <th>Race</th>\n",
       "      <th>Marital Status</th>\n",
       "      <th>T Stage</th>\n",
       "      <th>N Stage</th>\n",
       "      <th>6th Stage</th>\n",
       "      <th>differentiate</th>\n",
       "      <th>Grade</th>\n",
       "      <th>A Stage</th>\n",
       "      <th>Tumor Size</th>\n",
       "      <th>Estrogen Status</th>\n",
       "      <th>Progesterone Status</th>\n",
       "      <th>Regional Node Examined</th>\n",
       "      <th>Reginol Node Positive</th>\n",
       "      <th>Survival Months</th>\n",
       "      <th>Status;</th>\n",
       "    </tr>\n",
       "  </thead>\n",
       "  <tbody>\n",
       "    <tr>\n",
       "      <th>0</th>\n",
       "      <td>68</td>\n",
       "      <td>2</td>\n",
       "      <td>1</td>\n",
       "      <td>0</td>\n",
       "      <td>0</td>\n",
       "      <td>0</td>\n",
       "      <td>1</td>\n",
       "      <td>3</td>\n",
       "      <td>1</td>\n",
       "      <td>4</td>\n",
       "      <td>1</td>\n",
       "      <td>1</td>\n",
       "      <td>24</td>\n",
       "      <td>1</td>\n",
       "      <td>60</td>\n",
       "      <td>0</td>\n",
       "    </tr>\n",
       "    <tr>\n",
       "      <th>1</th>\n",
       "      <td>50</td>\n",
       "      <td>2</td>\n",
       "      <td>1</td>\n",
       "      <td>1</td>\n",
       "      <td>1</td>\n",
       "      <td>2</td>\n",
       "      <td>0</td>\n",
       "      <td>2</td>\n",
       "      <td>1</td>\n",
       "      <td>35</td>\n",
       "      <td>1</td>\n",
       "      <td>1</td>\n",
       "      <td>14</td>\n",
       "      <td>5</td>\n",
       "      <td>62</td>\n",
       "      <td>0</td>\n",
       "    </tr>\n",
       "    <tr>\n",
       "      <th>2</th>\n",
       "      <td>58</td>\n",
       "      <td>2</td>\n",
       "      <td>0</td>\n",
       "      <td>2</td>\n",
       "      <td>2</td>\n",
       "      <td>4</td>\n",
       "      <td>0</td>\n",
       "      <td>2</td>\n",
       "      <td>1</td>\n",
       "      <td>63</td>\n",
       "      <td>1</td>\n",
       "      <td>1</td>\n",
       "      <td>14</td>\n",
       "      <td>7</td>\n",
       "      <td>75</td>\n",
       "      <td>0</td>\n",
       "    </tr>\n",
       "    <tr>\n",
       "      <th>3</th>\n",
       "      <td>58</td>\n",
       "      <td>2</td>\n",
       "      <td>1</td>\n",
       "      <td>0</td>\n",
       "      <td>0</td>\n",
       "      <td>0</td>\n",
       "      <td>1</td>\n",
       "      <td>3</td>\n",
       "      <td>1</td>\n",
       "      <td>18</td>\n",
       "      <td>1</td>\n",
       "      <td>1</td>\n",
       "      <td>2</td>\n",
       "      <td>1</td>\n",
       "      <td>84</td>\n",
       "      <td>0</td>\n",
       "    </tr>\n",
       "    <tr>\n",
       "      <th>4</th>\n",
       "      <td>47</td>\n",
       "      <td>2</td>\n",
       "      <td>1</td>\n",
       "      <td>1</td>\n",
       "      <td>0</td>\n",
       "      <td>1</td>\n",
       "      <td>1</td>\n",
       "      <td>3</td>\n",
       "      <td>1</td>\n",
       "      <td>41</td>\n",
       "      <td>1</td>\n",
       "      <td>1</td>\n",
       "      <td>3</td>\n",
       "      <td>1</td>\n",
       "      <td>50</td>\n",
       "      <td>0</td>\n",
       "    </tr>\n",
       "  </tbody>\n",
       "</table>\n",
       "</div>"
      ],
      "text/plain": [
       "   Age  Race  Marital Status  T Stage   N Stage  6th Stage  differentiate  \\\n",
       "0   68     2               1         0        0          0              1   \n",
       "1   50     2               1         1        1          2              0   \n",
       "2   58     2               0         2        2          4              0   \n",
       "3   58     2               1         0        0          0              1   \n",
       "4   47     2               1         1        0          1              1   \n",
       "\n",
       "   Grade  A Stage  Tumor Size  Estrogen Status  Progesterone Status  \\\n",
       "0      3        1           4                1                    1   \n",
       "1      2        1          35                1                    1   \n",
       "2      2        1          63                1                    1   \n",
       "3      3        1          18                1                    1   \n",
       "4      3        1          41                1                    1   \n",
       "\n",
       "   Regional Node Examined  Reginol Node Positive  Survival Months  Status;  \n",
       "0                      24                      1               60        0  \n",
       "1                      14                      5               62        0  \n",
       "2                      14                      7               75        0  \n",
       "3                       2                      1               84        0  \n",
       "4                       3                      1               50        0  "
      ]
     },
     "execution_count": 12,
     "metadata": {},
     "output_type": "execute_result"
    }
   ],
   "source": [
    "df_breastCancer.head()"
   ]
  },
  {
   "cell_type": "markdown",
   "id": "8321b3ea-6e57-44c9-8d18-ef3464643779",
   "metadata": {},
   "source": [
    "Nyt sarakkeessa 'Status' arvo 0 tarkoittaa, että henkilö on elossa tarkkailuajan aikana ja arvo 1 tarkoittaa, että henkilö on kuollut tarkkailuajan kuluessa. "
   ]
  },
  {
   "cell_type": "markdown",
   "id": "598f1c6e-00e7-4233-8466-9cbe50e34014",
   "metadata": {},
   "source": [
    "Tarkastellaan sarakkeita numeerisena datana."
   ]
  },
  {
   "cell_type": "code",
   "execution_count": 13,
   "id": "6823534a-5bcb-4843-ae1e-108f675a28e4",
   "metadata": {},
   "outputs": [
    {
     "data": {
      "text/html": [
       "<div>\n",
       "<style scoped>\n",
       "    .dataframe tbody tr th:only-of-type {\n",
       "        vertical-align: middle;\n",
       "    }\n",
       "\n",
       "    .dataframe tbody tr th {\n",
       "        vertical-align: top;\n",
       "    }\n",
       "\n",
       "    .dataframe thead th {\n",
       "        text-align: right;\n",
       "    }\n",
       "</style>\n",
       "<table border=\"1\" class=\"dataframe\">\n",
       "  <thead>\n",
       "    <tr style=\"text-align: right;\">\n",
       "      <th></th>\n",
       "      <th>Age</th>\n",
       "      <th>Race</th>\n",
       "      <th>Marital Status</th>\n",
       "      <th>T Stage</th>\n",
       "      <th>N Stage</th>\n",
       "      <th>6th Stage</th>\n",
       "      <th>differentiate</th>\n",
       "      <th>Grade</th>\n",
       "      <th>A Stage</th>\n",
       "      <th>Tumor Size</th>\n",
       "      <th>Estrogen Status</th>\n",
       "      <th>Progesterone Status</th>\n",
       "      <th>Regional Node Examined</th>\n",
       "      <th>Reginol Node Positive</th>\n",
       "      <th>Survival Months</th>\n",
       "      <th>Status;</th>\n",
       "    </tr>\n",
       "  </thead>\n",
       "  <tbody>\n",
       "    <tr>\n",
       "      <th>count</th>\n",
       "      <td>4024.00</td>\n",
       "      <td>4024.00</td>\n",
       "      <td>4024.00</td>\n",
       "      <td>4024.00</td>\n",
       "      <td>4024.00</td>\n",
       "      <td>4024.00</td>\n",
       "      <td>4024.00</td>\n",
       "      <td>4024.00</td>\n",
       "      <td>4024.00</td>\n",
       "      <td>4024.00</td>\n",
       "      <td>4024.00</td>\n",
       "      <td>4024.00</td>\n",
       "      <td>4024.00</td>\n",
       "      <td>4024.00</td>\n",
       "      <td>4024.00</td>\n",
       "      <td>4024.00</td>\n",
       "    </tr>\n",
       "    <tr>\n",
       "      <th>mean</th>\n",
       "      <td>53.97</td>\n",
       "      <td>1.78</td>\n",
       "      <td>1.37</td>\n",
       "      <td>0.78</td>\n",
       "      <td>0.44</td>\n",
       "      <td>1.32</td>\n",
       "      <td>0.69</td>\n",
       "      <td>2.13</td>\n",
       "      <td>0.98</td>\n",
       "      <td>30.47</td>\n",
       "      <td>0.93</td>\n",
       "      <td>0.83</td>\n",
       "      <td>14.36</td>\n",
       "      <td>4.16</td>\n",
       "      <td>71.30</td>\n",
       "      <td>0.15</td>\n",
       "    </tr>\n",
       "    <tr>\n",
       "      <th>std</th>\n",
       "      <td>8.96</td>\n",
       "      <td>0.56</td>\n",
       "      <td>1.06</td>\n",
       "      <td>0.77</td>\n",
       "      <td>0.69</td>\n",
       "      <td>1.27</td>\n",
       "      <td>1.02</td>\n",
       "      <td>0.64</td>\n",
       "      <td>0.15</td>\n",
       "      <td>21.12</td>\n",
       "      <td>0.25</td>\n",
       "      <td>0.38</td>\n",
       "      <td>8.10</td>\n",
       "      <td>5.11</td>\n",
       "      <td>22.92</td>\n",
       "      <td>0.36</td>\n",
       "    </tr>\n",
       "    <tr>\n",
       "      <th>min</th>\n",
       "      <td>30.00</td>\n",
       "      <td>0.00</td>\n",
       "      <td>0.00</td>\n",
       "      <td>0.00</td>\n",
       "      <td>0.00</td>\n",
       "      <td>0.00</td>\n",
       "      <td>0.00</td>\n",
       "      <td>0.00</td>\n",
       "      <td>0.00</td>\n",
       "      <td>1.00</td>\n",
       "      <td>0.00</td>\n",
       "      <td>0.00</td>\n",
       "      <td>1.00</td>\n",
       "      <td>1.00</td>\n",
       "      <td>1.00</td>\n",
       "      <td>0.00</td>\n",
       "    </tr>\n",
       "    <tr>\n",
       "      <th>25%</th>\n",
       "      <td>47.00</td>\n",
       "      <td>2.00</td>\n",
       "      <td>1.00</td>\n",
       "      <td>0.00</td>\n",
       "      <td>0.00</td>\n",
       "      <td>0.00</td>\n",
       "      <td>0.00</td>\n",
       "      <td>2.00</td>\n",
       "      <td>1.00</td>\n",
       "      <td>16.00</td>\n",
       "      <td>1.00</td>\n",
       "      <td>1.00</td>\n",
       "      <td>9.00</td>\n",
       "      <td>1.00</td>\n",
       "      <td>56.00</td>\n",
       "      <td>0.00</td>\n",
       "    </tr>\n",
       "    <tr>\n",
       "      <th>50%</th>\n",
       "      <td>54.00</td>\n",
       "      <td>2.00</td>\n",
       "      <td>1.00</td>\n",
       "      <td>1.00</td>\n",
       "      <td>0.00</td>\n",
       "      <td>1.00</td>\n",
       "      <td>0.00</td>\n",
       "      <td>2.00</td>\n",
       "      <td>1.00</td>\n",
       "      <td>25.00</td>\n",
       "      <td>1.00</td>\n",
       "      <td>1.00</td>\n",
       "      <td>14.00</td>\n",
       "      <td>2.00</td>\n",
       "      <td>73.00</td>\n",
       "      <td>0.00</td>\n",
       "    </tr>\n",
       "    <tr>\n",
       "      <th>75%</th>\n",
       "      <td>61.00</td>\n",
       "      <td>2.00</td>\n",
       "      <td>1.00</td>\n",
       "      <td>1.00</td>\n",
       "      <td>1.00</td>\n",
       "      <td>2.00</td>\n",
       "      <td>1.00</td>\n",
       "      <td>3.00</td>\n",
       "      <td>1.00</td>\n",
       "      <td>38.00</td>\n",
       "      <td>1.00</td>\n",
       "      <td>1.00</td>\n",
       "      <td>19.00</td>\n",
       "      <td>5.00</td>\n",
       "      <td>90.00</td>\n",
       "      <td>0.00</td>\n",
       "    </tr>\n",
       "    <tr>\n",
       "      <th>max</th>\n",
       "      <td>69.00</td>\n",
       "      <td>2.00</td>\n",
       "      <td>4.00</td>\n",
       "      <td>3.00</td>\n",
       "      <td>2.00</td>\n",
       "      <td>4.00</td>\n",
       "      <td>3.00</td>\n",
       "      <td>3.00</td>\n",
       "      <td>1.00</td>\n",
       "      <td>140.00</td>\n",
       "      <td>1.00</td>\n",
       "      <td>1.00</td>\n",
       "      <td>61.00</td>\n",
       "      <td>46.00</td>\n",
       "      <td>107.00</td>\n",
       "      <td>1.00</td>\n",
       "    </tr>\n",
       "  </tbody>\n",
       "</table>\n",
       "</div>"
      ],
      "text/plain": [
       "           Age     Race  Marital Status  T Stage   N Stage  6th Stage  \\\n",
       "count  4024.00  4024.00         4024.00   4024.00  4024.00    4024.00   \n",
       "mean     53.97     1.78            1.37      0.78     0.44       1.32   \n",
       "std       8.96     0.56            1.06      0.77     0.69       1.27   \n",
       "min      30.00     0.00            0.00      0.00     0.00       0.00   \n",
       "25%      47.00     2.00            1.00      0.00     0.00       0.00   \n",
       "50%      54.00     2.00            1.00      1.00     0.00       1.00   \n",
       "75%      61.00     2.00            1.00      1.00     1.00       2.00   \n",
       "max      69.00     2.00            4.00      3.00     2.00       4.00   \n",
       "\n",
       "       differentiate    Grade  A Stage  Tumor Size  Estrogen Status  \\\n",
       "count        4024.00  4024.00  4024.00     4024.00          4024.00   \n",
       "mean            0.69     2.13     0.98       30.47             0.93   \n",
       "std             1.02     0.64     0.15       21.12             0.25   \n",
       "min             0.00     0.00     0.00        1.00             0.00   \n",
       "25%             0.00     2.00     1.00       16.00             1.00   \n",
       "50%             0.00     2.00     1.00       25.00             1.00   \n",
       "75%             1.00     3.00     1.00       38.00             1.00   \n",
       "max             3.00     3.00     1.00      140.00             1.00   \n",
       "\n",
       "       Progesterone Status  Regional Node Examined  Reginol Node Positive  \\\n",
       "count              4024.00                 4024.00                4024.00   \n",
       "mean                  0.83                   14.36                   4.16   \n",
       "std                   0.38                    8.10                   5.11   \n",
       "min                   0.00                    1.00                   1.00   \n",
       "25%                   1.00                    9.00                   1.00   \n",
       "50%                   1.00                   14.00                   2.00   \n",
       "75%                   1.00                   19.00                   5.00   \n",
       "max                   1.00                   61.00                  46.00   \n",
       "\n",
       "       Survival Months  Status;  \n",
       "count          4024.00  4024.00  \n",
       "mean             71.30     0.15  \n",
       "std              22.92     0.36  \n",
       "min               1.00     0.00  \n",
       "25%              56.00     0.00  \n",
       "50%              73.00     0.00  \n",
       "75%              90.00     0.00  \n",
       "max             107.00     1.00  "
      ]
     },
     "execution_count": 13,
     "metadata": {},
     "output_type": "execute_result"
    }
   ],
   "source": [
    "df_breastCancer.describe().round(2)"
   ]
  },
  {
   "cell_type": "code",
   "execution_count": 14,
   "id": "e1d997d7-b1e8-442b-b80c-fd5f45f853a4",
   "metadata": {},
   "outputs": [
    {
     "data": {
      "text/plain": [
       "<AxesSubplot:>"
      ]
     },
     "execution_count": 14,
     "metadata": {},
     "output_type": "execute_result"
    },
    {
     "data": {
      "image/png": "[encoded data removed]",
      "text/plain": [
       "<Figure size 640x480 with 1 Axes>"
      ]
     },
     "metadata": {},
     "output_type": "display_data"
    }
   ],
   "source": [
    "df_breastCancer['Status;'].hist()"
   ]
  },
  {
   "cell_type": "markdown",
   "id": "266478b9-d45a-4790-8ed3-dd0142eda073",
   "metadata": {},
   "source": [
    "Etsitään korrelaatiota 'Statuksen' suhteen. Arvot voivat olla välillä pienimmillään -1 ja suurimmillaan 1. Mitä lähempänä arvoa 1 ollaan, sen suurempi korrelaatio. Näissä tuloksissa ei näy vahvaa korrelaatiota minkään muun muuttujan kanssa."
   ]
  },
  {
   "cell_type": "code",
   "execution_count": 15,
   "id": "77fb30b7-5904-4182-be30-f54e8de28782",
   "metadata": {},
   "outputs": [
    {
     "data": {
      "text/plain": [
       "Status;                   1.000000\n",
       "6th Stage                 0.257636\n",
       "Reginol Node Positive     0.256638\n",
       "N Stage                   0.255772\n",
       "T Stage                   0.154699\n",
       "Tumor Size                0.134205\n",
       "Grade                     0.134170\n",
       "Age                       0.055921\n",
       "Regional Node Examined    0.034772\n",
       "Marital Status            0.033289\n",
       "differentiate            -0.018513\n",
       "Race                     -0.050040\n",
       "A Stage                  -0.096584\n",
       "Progesterone Status      -0.177079\n",
       "Estrogen Status          -0.184650\n",
       "Survival Months          -0.476514\n",
       "Name: Status;, dtype: float64"
      ]
     },
     "execution_count": 15,
     "metadata": {},
     "output_type": "execute_result"
    }
   ],
   "source": [
    "corr_matrix = df_breastCancer.corr()\n",
    "corr_matrix[\"Status;\"].sort_values(ascending=False)"
   ]
  },
  {
   "cell_type": "markdown",
   "id": "34fb0936-b1e8-466d-813f-a4a41db57756",
   "metadata": {},
   "source": [
    "Tutkitaan vielä tarkemmin näiden muuttujien 6 ylimpänä olevaa arvoa selviytymiskuukausien suhteen."
   ]
  },
  {
   "cell_type": "code",
   "execution_count": 16,
   "id": "9b605f05-c477-426c-815a-98fa7b9bcc57",
   "metadata": {},
   "outputs": [
    {
     "data": {
      "text/plain": [
       "array([[<AxesSubplot:xlabel='6th Stage', ylabel='6th Stage'>,\n",
       "        <AxesSubplot:xlabel='Reginol Node Positive', ylabel='6th Stage'>,\n",
       "        <AxesSubplot:xlabel='N Stage', ylabel='6th Stage'>,\n",
       "        <AxesSubplot:xlabel='T Stage ', ylabel='6th Stage'>,\n",
       "        <AxesSubplot:xlabel='Tumor Size', ylabel='6th Stage'>,\n",
       "        <AxesSubplot:xlabel='Grade', ylabel='6th Stage'>],\n",
       "       [<AxesSubplot:xlabel='6th Stage', ylabel='Reginol Node Positive'>,\n",
       "        <AxesSubplot:xlabel='Reginol Node Positive', ylabel='Reginol Node Positive'>,\n",
       "        <AxesSubplot:xlabel='N Stage', ylabel='Reginol Node Positive'>,\n",
       "        <AxesSubplot:xlabel='T Stage ', ylabel='Reginol Node Positive'>,\n",
       "        <AxesSubplot:xlabel='Tumor Size', ylabel='Reginol Node Positive'>,\n",
       "        <AxesSubplot:xlabel='Grade', ylabel='Reginol Node Positive'>],\n",
       "       [<AxesSubplot:xlabel='6th Stage', ylabel='N Stage'>,\n",
       "        <AxesSubplot:xlabel='Reginol Node Positive', ylabel='N Stage'>,\n",
       "        <AxesSubplot:xlabel='N Stage', ylabel='N Stage'>,\n",
       "        <AxesSubplot:xlabel='T Stage ', ylabel='N Stage'>,\n",
       "        <AxesSubplot:xlabel='Tumor Size', ylabel='N Stage'>,\n",
       "        <AxesSubplot:xlabel='Grade', ylabel='N Stage'>],\n",
       "       [<AxesSubplot:xlabel='6th Stage', ylabel='T Stage '>,\n",
       "        <AxesSubplot:xlabel='Reginol Node Positive', ylabel='T Stage '>,\n",
       "        <AxesSubplot:xlabel='N Stage', ylabel='T Stage '>,\n",
       "        <AxesSubplot:xlabel='T Stage ', ylabel='T Stage '>,\n",
       "        <AxesSubplot:xlabel='Tumor Size', ylabel='T Stage '>,\n",
       "        <AxesSubplot:xlabel='Grade', ylabel='T Stage '>],\n",
       "       [<AxesSubplot:xlabel='6th Stage', ylabel='Tumor Size'>,\n",
       "        <AxesSubplot:xlabel='Reginol Node Positive', ylabel='Tumor Size'>,\n",
       "        <AxesSubplot:xlabel='N Stage', ylabel='Tumor Size'>,\n",
       "        <AxesSubplot:xlabel='T Stage ', ylabel='Tumor Size'>,\n",
       "        <AxesSubplot:xlabel='Tumor Size', ylabel='Tumor Size'>,\n",
       "        <AxesSubplot:xlabel='Grade', ylabel='Tumor Size'>],\n",
       "       [<AxesSubplot:xlabel='6th Stage', ylabel='Grade'>,\n",
       "        <AxesSubplot:xlabel='Reginol Node Positive', ylabel='Grade'>,\n",
       "        <AxesSubplot:xlabel='N Stage', ylabel='Grade'>,\n",
       "        <AxesSubplot:xlabel='T Stage ', ylabel='Grade'>,\n",
       "        <AxesSubplot:xlabel='Tumor Size', ylabel='Grade'>,\n",
       "        <AxesSubplot:xlabel='Grade', ylabel='Grade'>]], dtype=object)"
      ]
     },
     "execution_count": 16,
     "metadata": {},
     "output_type": "execute_result"
    },
    {
     "data": {
      "image/png": "[encoded data removed]",
      "text/plain": [
       "<Figure size 1200x800 with 36 Axes>"
      ]
     },
     "metadata": {},
     "output_type": "display_data"
    }
   ],
   "source": [
    "from pandas.plotting import scatter_matrix\n",
    "\n",
    "attributes = [\"6th Stage\", \"Reginol Node Positive\", \"N Stage\", \"T Stage \",\"Tumor Size\",\"Grade\"]\n",
    "scatter_matrix(df_breastCancer[attributes], figsize=(12, 8))"
   ]
  },
  {
   "cell_type": "markdown",
   "id": "3c3249f9-0431-465f-8492-a9ae8f64bfa6",
   "metadata": {},
   "source": [
    "Eniten kuolleisuutta tuntuu vastaavan '6th Stage'"
   ]
  },
  {
   "cell_type": "markdown",
   "id": "02fd310b-aa0b-4f2f-8be7-3280ea44330b",
   "metadata": {},
   "source": [
    "Seuraavassa kuvassa katsotaan tarkemmin näiden korrelaatiota ja tämän perusteella nähdään, että korrelaatiota on, mutta ei kovin merkittävästi."
   ]
  },
  {
   "cell_type": "code",
   "execution_count": 17,
   "id": "4a38c99a-ab0b-496e-904d-16165217a60a",
   "metadata": {},
   "outputs": [
    {
     "data": {
      "text/plain": [
       "<AxesSubplot:xlabel='Status;', ylabel='6th Stage'>"
      ]
     },
     "execution_count": 17,
     "metadata": {},
     "output_type": "execute_result"
    },
    {
     "data": {
      "image/png": "[encoded data removed]",
      "text/plain": [
       "<Figure size 640x480 with 1 Axes>"
      ]
     },
     "metadata": {},
     "output_type": "display_data"
    }
   ],
   "source": [
    "df_breastCancer.plot(kind=\"scatter\", x=\"Status;\", y=\"6th Stage\", alpha=0.1)"
   ]
  },
  {
   "cell_type": "markdown",
   "id": "15ba44ea-b15d-4902-8119-fb95a4052766",
   "metadata": {},
   "source": [
    "Tarkistetaan vielä, että data on valmisteltu niin, että se on sopiva koneoppimista varten. Tämän vuoksi sarakkeiden arvot on muutettu numeerisiksi."
   ]
  },
  {
   "cell_type": "code",
   "execution_count": 18,
   "id": "b0a00809-368f-47bb-ad9d-6cff078728c3",
   "metadata": {},
   "outputs": [
    {
     "data": {
      "text/html": [
       "<div>\n",
       "<style scoped>\n",
       "    .dataframe tbody tr th:only-of-type {\n",
       "        vertical-align: middle;\n",
       "    }\n",
       "\n",
       "    .dataframe tbody tr th {\n",
       "        vertical-align: top;\n",
       "    }\n",
       "\n",
       "    .dataframe thead th {\n",
       "        text-align: right;\n",
       "    }\n",
       "</style>\n",
       "<table border=\"1\" class=\"dataframe\">\n",
       "  <thead>\n",
       "    <tr style=\"text-align: right;\">\n",
       "      <th></th>\n",
       "      <th>Age</th>\n",
       "      <th>Race</th>\n",
       "      <th>Marital Status</th>\n",
       "      <th>T Stage</th>\n",
       "      <th>N Stage</th>\n",
       "      <th>6th Stage</th>\n",
       "      <th>differentiate</th>\n",
       "      <th>Grade</th>\n",
       "      <th>A Stage</th>\n",
       "      <th>Tumor Size</th>\n",
       "      <th>Estrogen Status</th>\n",
       "      <th>Progesterone Status</th>\n",
       "      <th>Regional Node Examined</th>\n",
       "      <th>Reginol Node Positive</th>\n",
       "      <th>Survival Months</th>\n",
       "      <th>Status;</th>\n",
       "    </tr>\n",
       "  </thead>\n",
       "  <tbody>\n",
       "    <tr>\n",
       "      <th>0</th>\n",
       "      <td>68</td>\n",
       "      <td>2</td>\n",
       "      <td>1</td>\n",
       "      <td>0</td>\n",
       "      <td>0</td>\n",
       "      <td>0</td>\n",
       "      <td>1</td>\n",
       "      <td>3</td>\n",
       "      <td>1</td>\n",
       "      <td>4</td>\n",
       "      <td>1</td>\n",
       "      <td>1</td>\n",
       "      <td>24</td>\n",
       "      <td>1</td>\n",
       "      <td>60</td>\n",
       "      <td>0</td>\n",
       "    </tr>\n",
       "    <tr>\n",
       "      <th>1</th>\n",
       "      <td>50</td>\n",
       "      <td>2</td>\n",
       "      <td>1</td>\n",
       "      <td>1</td>\n",
       "      <td>1</td>\n",
       "      <td>2</td>\n",
       "      <td>0</td>\n",
       "      <td>2</td>\n",
       "      <td>1</td>\n",
       "      <td>35</td>\n",
       "      <td>1</td>\n",
       "      <td>1</td>\n",
       "      <td>14</td>\n",
       "      <td>5</td>\n",
       "      <td>62</td>\n",
       "      <td>0</td>\n",
       "    </tr>\n",
       "    <tr>\n",
       "      <th>2</th>\n",
       "      <td>58</td>\n",
       "      <td>2</td>\n",
       "      <td>0</td>\n",
       "      <td>2</td>\n",
       "      <td>2</td>\n",
       "      <td>4</td>\n",
       "      <td>0</td>\n",
       "      <td>2</td>\n",
       "      <td>1</td>\n",
       "      <td>63</td>\n",
       "      <td>1</td>\n",
       "      <td>1</td>\n",
       "      <td>14</td>\n",
       "      <td>7</td>\n",
       "      <td>75</td>\n",
       "      <td>0</td>\n",
       "    </tr>\n",
       "    <tr>\n",
       "      <th>3</th>\n",
       "      <td>58</td>\n",
       "      <td>2</td>\n",
       "      <td>1</td>\n",
       "      <td>0</td>\n",
       "      <td>0</td>\n",
       "      <td>0</td>\n",
       "      <td>1</td>\n",
       "      <td>3</td>\n",
       "      <td>1</td>\n",
       "      <td>18</td>\n",
       "      <td>1</td>\n",
       "      <td>1</td>\n",
       "      <td>2</td>\n",
       "      <td>1</td>\n",
       "      <td>84</td>\n",
       "      <td>0</td>\n",
       "    </tr>\n",
       "    <tr>\n",
       "      <th>4</th>\n",
       "      <td>47</td>\n",
       "      <td>2</td>\n",
       "      <td>1</td>\n",
       "      <td>1</td>\n",
       "      <td>0</td>\n",
       "      <td>1</td>\n",
       "      <td>1</td>\n",
       "      <td>3</td>\n",
       "      <td>1</td>\n",
       "      <td>41</td>\n",
       "      <td>1</td>\n",
       "      <td>1</td>\n",
       "      <td>3</td>\n",
       "      <td>1</td>\n",
       "      <td>50</td>\n",
       "      <td>0</td>\n",
       "    </tr>\n",
       "  </tbody>\n",
       "</table>\n",
       "</div>"
      ],
      "text/plain": [
       "   Age  Race  Marital Status  T Stage   N Stage  6th Stage  differentiate  \\\n",
       "0   68     2               1         0        0          0              1   \n",
       "1   50     2               1         1        1          2              0   \n",
       "2   58     2               0         2        2          4              0   \n",
       "3   58     2               1         0        0          0              1   \n",
       "4   47     2               1         1        0          1              1   \n",
       "\n",
       "   Grade  A Stage  Tumor Size  Estrogen Status  Progesterone Status  \\\n",
       "0      3        1           4                1                    1   \n",
       "1      2        1          35                1                    1   \n",
       "2      2        1          63                1                    1   \n",
       "3      3        1          18                1                    1   \n",
       "4      3        1          41                1                    1   \n",
       "\n",
       "   Regional Node Examined  Reginol Node Positive  Survival Months  Status;  \n",
       "0                      24                      1               60        0  \n",
       "1                      14                      5               62        0  \n",
       "2                      14                      7               75        0  \n",
       "3                       2                      1               84        0  \n",
       "4                       3                      1               50        0  "
      ]
     },
     "execution_count": 18,
     "metadata": {},
     "output_type": "execute_result"
    }
   ],
   "source": [
    "df_breastCancer.head()"
   ]
  },
  {
   "cell_type": "markdown",
   "id": "a6a18ba1-81c7-41f1-94ec-edbb9fcc2da1",
   "metadata": {},
   "source": [
    "Erotellaan datasta opetussetti ja testisetti. Opetusdataa varten irrotetaan alkuperäisestä datasta 80 % osajoukko. Sen jälkeen otetaan testidata niin, että poisluetaan opetusdata testidatasta."
   ]
  },
  {
   "cell_type": "code",
   "execution_count": 19,
   "id": "c1d596bf-c8ae-45de-9f2e-16d580d1a6a9",
   "metadata": {},
   "outputs": [],
   "source": [
    "df_train = df_breastCancer.sample(frac=0.8, random_state=42)\n",
    "df_test = df_breastCancer.drop(df_train.index)"
   ]
  },
  {
   "cell_type": "code",
   "execution_count": 20,
   "id": "f2ec07d7-5c2f-49d0-a9a2-d946212d14d0",
   "metadata": {},
   "outputs": [
    {
     "name": "stdout",
     "output_type": "stream",
     "text": [
      "Treenidimensiot: (3219, 16) Testidimensiot (805, 16)\n"
     ]
    }
   ],
   "source": [
    "print(\"Treenidimensiot:\", df_train.shape, \"Testidimensiot\", df_test.shape)"
   ]
  },
  {
   "cell_type": "markdown",
   "id": "b1f7b884-17a3-42ea-9e68-f6fb49b3755d",
   "metadata": {},
   "source": [
    "Otetaan mallinnukseen muuttujat df_trainista eli opetusdatasta."
   ]
  },
  {
   "cell_type": "code",
   "execution_count": 21,
   "id": "535c1eb6-83ea-48c9-9744-5e9d2816cc48",
   "metadata": {},
   "outputs": [
    {
     "name": "stdout",
     "output_type": "stream",
     "text": [
      "(3219, 16) (3219,)\n"
     ]
    }
   ],
   "source": [
    "X_train = df_train.iloc[:,0:].to_numpy()\n",
    "y_train = df_train.iloc[:,15].to_numpy()\n",
    "\n",
    "print(X_train.shape, y_train.shape)"
   ]
  },
  {
   "cell_type": "markdown",
   "id": "19dc96ab-caad-42de-95d1-795cad9cc68d",
   "metadata": {},
   "source": [
    "Ylläolevasta nähdään, että opetusdataa on 3219 riviä ja siellä on 16 muuttujaa. Lisäksi vastauksia (y_train) on sama 3219."
   ]
  },
  {
   "cell_type": "markdown",
   "id": "4289d65f-f6d7-4255-b555-81127691b233",
   "metadata": {},
   "source": [
    "Seuraavaksi tehdään mallinnusta. Otetaan sitä varten ensiksi kirjastoja käyttöön."
   ]
  },
  {
   "cell_type": "code",
   "execution_count": 22,
   "id": "192e4a02-0a1d-40f0-b905-d12c80bc7e10",
   "metadata": {},
   "outputs": [],
   "source": [
    "from tensorflow.keras import Sequential\n",
    "from tensorflow.keras.layers import Dense"
   ]
  },
  {
   "cell_type": "code",
   "execution_count": 23,
   "id": "721ad5d3-fbcf-448e-9025-5f583ab20867",
   "metadata": {},
   "outputs": [],
   "source": [
    "model = Sequential()\n",
    "model.add(Dense(30, input_dim=16, activation=\"relu\"))\n",
    "model.add(Dense(15, activation=\"relu\"))\n",
    "model.add(Dense(5, activation=\"relu\"))\n",
    "model.add(Dense(1, activation=\"sigmoid\"))"
   ]
  },
  {
   "cell_type": "code",
   "execution_count": 24,
   "id": "77e89f5d-93ee-4220-994b-9a97dbb5d104",
   "metadata": {},
   "outputs": [
    {
     "name": "stdout",
     "output_type": "stream",
     "text": [
      "Model: \"sequential\"\n",
      "_________________________________________________________________\n",
      " Layer (type)                Output Shape              Param #   \n",
      "=================================================================\n",
      " dense (Dense)               (None, 30)                510       \n",
      "                                                                 \n",
      " dense_1 (Dense)             (None, 15)                465       \n",
      "                                                                 \n",
      " dense_2 (Dense)             (None, 5)                 80        \n",
      "                                                                 \n",
      " dense_3 (Dense)             (None, 1)                 6         \n",
      "                                                                 \n",
      "=================================================================\n",
      "Total params: 1,061\n",
      "Trainable params: 1,061\n",
      "Non-trainable params: 0\n",
      "_________________________________________________________________\n"
     ]
    }
   ],
   "source": [
    "model.summary()"
   ]
  },
  {
   "cell_type": "code",
   "execution_count": 25,
   "id": "20e37e9b-7cd5-447d-99f0-ed00d27a5ecf",
   "metadata": {},
   "outputs": [],
   "source": [
    "model.compile(optimizer='adam', loss='binary_crossentropy', metrics=['accuracy']) "
   ]
  },
  {
   "cell_type": "code",
   "execution_count": null,
   "id": "552c582e-dcfe-4aeb-9fb8-1d59f15a61ac",
   "metadata": {},
   "outputs": [
    {
     "name": "stdout",
     "output_type": "stream",
     "text": [
      "Epoch 1/25\n",
      "  1/215 [..............................] - ETA: 3:32 - loss: 3.4819e-08 - accuracy: 1.0000"
     ]
    }
   ],
   "source": [
    "model.fit(X_train, y_train, validation_split=0.2, epochs=25, batch_size=12)"
   ]
  },
  {
   "cell_type": "markdown",
   "id": "01dde966-5504-4b56-936f-78707580966e",
   "metadata": {},
   "source": [
    "Seuraavaksi jaetaan vielä testidata kahteen eri osajoukkoon."
   ]
  },
  {
   "cell_type": "code",
   "execution_count": null,
   "id": "a98d09ee-29f1-40e6-ac49-19ed2432847a",
   "metadata": {},
   "outputs": [],
   "source": [
    "df_test_eval = df_test.sample(frac=0.20, random_state=42)\n",
    "df_test_unseen = df_test.drop(df_test_eval.index)"
   ]
  },
  {
   "cell_type": "code",
   "execution_count": null,
   "id": "9482b62e-d959-46cd-bc21-026e0d7c925a",
   "metadata": {},
   "outputs": [],
   "source": [
    "X_test_eval = df_test_eval.iloc[:,0:].to_numpy()\n",
    "y_test_eval = df_test_eval.iloc[:,15].to_numpy()"
   ]
  },
  {
   "cell_type": "markdown",
   "id": "f156d471-76b3-4f94-9338-ed23723aca9e",
   "metadata": {},
   "source": [
    "Evaluointidatan joukko on 161:"
   ]
  },
  {
   "cell_type": "code",
   "execution_count": null,
   "id": "06c155ea-b3e7-4970-afa4-e22f2d355b82",
   "metadata": {},
   "outputs": [],
   "source": [
    "print(X_test_eval.shape, y_test_eval.shape)"
   ]
  },
  {
   "cell_type": "code",
   "execution_count": null,
   "id": "32265b3b-15bb-4470-ba83-5c64d4b9a147",
   "metadata": {},
   "outputs": [],
   "source": [
    "_, accuracy = model.evaluate(X_test_eval, y_test_eval)\n",
    "print('Accuracy: %.2f' % (accuracy*100))"
   ]
  },
  {
   "cell_type": "markdown",
   "id": "6fa56245-e31b-4cbc-8c99-1f354aef2ba1",
   "metadata": {},
   "source": [
    "Yllä nähdään, että tarkkuus tällä testidatalla on 100 %."
   ]
  },
  {
   "cell_type": "markdown",
   "id": "e4928c9b-4e24-4877-853f-ce3713a1b90d",
   "metadata": {},
   "source": [
    "Seuraavaksi mennään ennustuksiin ja tehdään se ennennäkemättömällä datalla."
   ]
  },
  {
   "cell_type": "code",
   "execution_count": null,
   "id": "99408e7c-9e32-486d-99bf-78e2fe789e21",
   "metadata": {},
   "outputs": [],
   "source": [
    "X_test_unseen = df_test_unseen.iloc[:,0:].to_numpy()\n",
    "y_test_unseen = df_test_unseen.iloc[:,15].to_numpy()"
   ]
  },
  {
   "cell_type": "code",
   "execution_count": null,
   "id": "602a2ce9-4139-4980-8a4e-3ed9db5e3665",
   "metadata": {},
   "outputs": [],
   "source": [
    "print(X_test_unseen.shape, y_test_unseen.shape)"
   ]
  },
  {
   "cell_type": "markdown",
   "id": "2a9c89dd-b1a2-4467-b58a-4d371ae8439e",
   "metadata": {},
   "source": [
    "Sovellusdataa tässä kohtaa ennennäkemättömällä datalla vajaa 650."
   ]
  },
  {
   "cell_type": "code",
   "execution_count": null,
   "id": "54f5d151-8283-48ce-8c44-a9b25e6c145a",
   "metadata": {},
   "outputs": [],
   "source": [
    "preds = model.predict(X_test_unseen)"
   ]
  },
  {
   "cell_type": "markdown",
   "id": "e5d8578b-ff4e-42b8-927c-144c9f05ef28",
   "metadata": {},
   "source": [
    "Seuraavasta nähdään todennäköisyydet kullekin havainolle. Jos arvo on enemmän kuin 0.5, niin silloin ennustamisessa oltaisiin varmoja siitä, että syöpään sairastunut on kuollut."
   ]
  },
  {
   "cell_type": "code",
   "execution_count": null,
   "id": "7dee83ce-2a36-4cd4-977a-c2756edde56f",
   "metadata": {},
   "outputs": [],
   "source": [
    "preds"
   ]
  },
  {
   "cell_type": "code",
   "execution_count": null,
   "id": "38b0e333-dc43-4e58-a8b7-2279f5ee7d8e",
   "metadata": {},
   "outputs": [],
   "source": [
    "preds_classes = (preds > 0.5).astype(int)"
   ]
  },
  {
   "cell_type": "code",
   "execution_count": null,
   "id": "2401f127-fb37-4c0e-822d-8b283bdd48be",
   "metadata": {},
   "outputs": [],
   "source": [
    "print(preds_classes)"
   ]
  },
  {
   "cell_type": "code",
   "execution_count": null,
   "id": "de6b28f0-8bcf-4022-9786-fdefa8cd4960",
   "metadata": {},
   "outputs": [],
   "source": [
    "print(preds_classes.shape, np.squeeze(preds_classes).shape, preds_classes[:,0].shape)"
   ]
  },
  {
   "cell_type": "markdown",
   "id": "569621d6-4e7b-4872-be99-c5c7f00afbd8",
   "metadata": {},
   "source": [
    "Mallin tarkkuuden laskeminen"
   ]
  },
  {
   "cell_type": "code",
   "execution_count": null,
   "id": "9c7bcc32-d554-41bb-96aa-a0b61eb7549f",
   "metadata": {},
   "outputs": [],
   "source": [
    "acc = np.count_nonzero(preds_classes[:,0] == y_test_unseen)/len(y_test_unseen)"
   ]
  },
  {
   "cell_type": "code",
   "execution_count": null,
   "id": "01c989a6-8597-4bfd-a925-8c739debcfc1",
   "metadata": {},
   "outputs": [],
   "source": [
    "print(f\"Accuracy with unseen {len(y_test_unseen)} samples: {acc*100:.3f}\")"
   ]
  },
  {
   "cell_type": "markdown",
   "id": "5aef35b4-eb2c-4f4c-8fcc-31393addba05",
   "metadata": {},
   "source": [
    "Tästä siis nähdään, että tarkkuus on sama kuin opetusdatassa."
   ]
  },
  {
   "cell_type": "markdown",
   "id": "433f797c-563b-4e3c-917d-4cf7c7096a34",
   "metadata": {},
   "source": [
    "Seuraavassa vielä nähdään, että miten malli on ennustanut arvoa ja onko se mennyt oikein (True=1, False=0)"
   ]
  },
  {
   "cell_type": "code",
   "execution_count": null,
   "id": "1ad7a007-8485-47fc-987f-07063ed7a4f5",
   "metadata": {},
   "outputs": [],
   "source": [
    "for i in range(10):\n",
    "    print('%s => %s (expected %d)' % (X_test_unseen[i].tolist(), preds_classes[i], y_test_unseen[i]))"
   ]
  }
 ],
 "metadata": {
  "kernelspec": {
   "display_name": "Python 3 (ipykernel)",
   "language": "python",
   "name": "python3"
  },
  "language_info": {
   "codemirror_mode": {
    "name": "ipython",
    "version": 3
   },
   "file_extension": ".py",
   "mimetype": "text/x-python",
   "name": "python",
   "nbconvert_exporter": "python",
   "pygments_lexer": "ipython3",
   "version": "3.9.13"
  }
 },
 "nbformat": 4,
 "nbformat_minor": 5
}
